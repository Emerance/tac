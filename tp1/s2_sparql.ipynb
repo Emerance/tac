{
 "cells": [
  {
   "cell_type": "markdown",
   "metadata": {},
   "source": [
    "# Bases de connaissance : interroger Wikidata à l'aide de requêtes SPARQL"
   ]
  },
  {
   "cell_type": "markdown",
   "metadata": {},
   "source": [
    "## Imports"
   ]
  },
  {
   "cell_type": "code",
   "execution_count": 5,
   "metadata": {},
   "outputs": [],
   "source": [
    "from datetime import datetime as dt\n",
    "from SPARQLWrapper import SPARQLWrapper, JSON"
   ]
  },
  {
   "cell_type": "markdown",
   "metadata": {},
   "source": [
    "## Obtenir la liste des éléments abordant la thématique des droits des femmes"
   ]
  },
  {
   "cell_type": "code",
   "execution_count": 9,
   "metadata": {},
   "outputs": [
    {
     "name": "stdout",
     "output_type": "stream",
     "text": [
      "\n",
      "49 documents abordant la thématique des droits et liberté des femmes retrouvé(s)\n",
      "\n",
      "[{'item': {'type': 'uri', 'value': 'http://www.wikidata.org/entity/Q106308'}, 'itemLabel': {'type': 'literal', 'value': 'Q106308'}}, {'item': {'type': 'uri', 'value': 'http://www.wikidata.org/entity/Q730868'}, 'itemLabel': {'type': 'literal', 'value': 'Q730868'}}, {'item': {'type': 'uri', 'value': 'http://www.wikidata.org/entity/Q2708575'}, 'itemLabel': {'type': 'literal', 'value': 'Q2708575'}}, {'item': {'type': 'uri', 'value': 'http://www.wikidata.org/entity/Q17359671'}, 'itemLabel': {'type': 'literal', 'value': 'Q17359671'}}, {'item': {'type': 'uri', 'value': 'http://www.wikidata.org/entity/Q18720071'}, 'itemLabel': {'type': 'literal', 'value': 'Q18720071'}}, {'item': {'type': 'uri', 'value': 'http://www.wikidata.org/entity/Q19223131'}, 'itemLabel': {'type': 'literal', 'value': 'Q19223131'}}, {'item': {'type': 'uri', 'value': 'http://www.wikidata.org/entity/Q21808514'}, 'itemLabel': {'type': 'literal', 'value': 'Q21808514'}}, {'item': {'type': 'uri', 'value': 'http://www.wikidata.org/entity/Q27612500'}, 'itemLabel': {'type': 'literal', 'value': 'Q27612500'}}, {'item': {'type': 'uri', 'value': 'http://www.wikidata.org/entity/Q30483864'}, 'itemLabel': {'type': 'literal', 'value': 'Q30483864'}}, {'item': {'type': 'uri', 'value': 'http://www.wikidata.org/entity/Q30483929'}, 'itemLabel': {'type': 'literal', 'value': 'Q30483929'}}]\n"
     ]
    }
   ],
   "source": [
    "# Retrieve results from SPARQL\n",
    "endpoint = \"https://query.wikidata.org/bigdata/namespace/wdq/sparql\"\n",
    "sparql = SPARQLWrapper(endpoint)\n",
    "\n",
    "\n",
    "statement = \"\"\"\n",
    "SELECT DISTINCT ?item ?itemLabel WHERE {\n",
    "  SERVICE wikibase:label { bd:serviceParam wikibase:language \"[AUTO_LANGUAGE]\". }\n",
    "  {\n",
    "    SELECT DISTINCT ?item WHERE {\n",
    "      ?item p:P921 ?statement0.\n",
    "      ?statement0 (ps:P921/(wdt:P279*)) wd:Q780687.\n",
    "      ?item p:P577 ?statement_1.\n",
    "      ?statement_1 psv:P577 ?statementValue_1.\n",
    "      ?statementValue_1 wikibase:timePrecision ?precision_1.\n",
    "      FILTER(?precision_1 >= 11 )\n",
    "      ?statementValue_1 wikibase:timeValue ?P577_1.\n",
    "      ?item p:P407 ?statement2.\n",
    "      ?statement2 (ps:P407/(wdt:P279*)) wd:Q150.\n",
    "    }\n",
    "  }\n",
    "}\n",
    "\"\"\"\n",
    "\n",
    "sparql.setQuery(statement)\n",
    "sparql.setReturnFormat(JSON)\n",
    "results = sparql.query().convert()\n",
    "\n",
    "rows = results['results']['bindings']\n",
    "print(f\"\\n{len(rows)} documents abordant la thématique des droits et liberté des femmes retrouvé(s)\\n\")\n",
    "print(rows[:10])"
   ]
  },
  {
   "cell_type": "markdown",
   "metadata": {},
   "source": [
    "## Pour en savoir plus"
   ]
  },
  {
   "cell_type": "markdown",
   "metadata": {},
   "source": [
    "- [Le projet Wikidata](https://www.wikidata.org/wiki/Wikidata:Main_Page)\n",
    "- [Aide à la construction de requêtes](https://query.wikidata.org/)"
   ]
  }
 ],
 "metadata": {
  "kernelspec": {
   "display_name": "Python 3.10.5 ('venv_tac': venv)",
   "language": "python",
   "name": "python3"
  },
  "language_info": {
   "codemirror_mode": {
    "name": "ipython",
    "version": 3
   },
   "file_extension": ".py",
   "mimetype": "text/x-python",
   "name": "python",
   "nbconvert_exporter": "python",
   "pygments_lexer": "ipython3",
   "version": "3.9.0"
  },
  "vscode": {
   "interpreter": {
    "hash": "a942b0119f0c2604d4302f32a2a6e790f63eb4c9b0c297be7a26bd56fa8e02c6"
   }
  }
 },
 "nbformat": 4,
 "nbformat_minor": 4
}
