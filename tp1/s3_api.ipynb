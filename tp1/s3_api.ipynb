{
 "cells": [
  {
   "cell_type": "markdown",
   "metadata": {},
   "source": [
    "# APIs: requêtes HTTP"
   ]
  },
  {
   "cell_type": "markdown",
   "metadata": {},
   "source": [
    "## Imports"
   ]
  },
  {
   "cell_type": "code",
   "execution_count": 1,
   "metadata": {},
   "outputs": [],
   "source": [
    "import json\n",
    "import requests"
   ]
  },
  {
   "cell_type": "markdown",
   "metadata": {},
   "source": [
    "## Utiliser [Google Translate](https://rapidapi.com/googlecloud/api/google-translate1/) pour fournir la traduction d'un texte en un language cible renseigné"
   ]
  },
  {
   "cell_type": "code",
   "execution_count": 7,
   "metadata": {},
   "outputs": [
    {
     "name": "stdout",
     "output_type": "stream",
     "text": [
      "{\"data\":{\"translations\":[{\"translatedText\":\"Bonjour à tous, comment allez-vous ce matin ?\"}]}}\n"
     ]
    }
   ],
   "source": [
    "url = \"https://google-translate1.p.rapidapi.com/language/translate/v2\"\n",
    "\n",
    "payload = \"q=Hello%20every%20body%2C%20how%20are%20you%20this%20morning%3F&target=fr&source=en\"\n",
    "headers = {\n",
    "\t\"content-type\": \"application/x-www-form-urlencoded\",\n",
    "\t\"Accept-Encoding\": \"application/gzip\",\n",
    "\t\"X-RapidAPI-Key\": \"84b2e29ef4msh9b4964a1f2bb3f5p179104jsn7289e41c5f6c\",\n",
    "\t\"X-RapidAPI-Host\": \"google-translate1.p.rapidapi.com\"\n",
    "}\n",
    "\n",
    "response = requests.request(\"POST\", url, data=payload, headers=headers)\n",
    "\n",
    "print(response.text)"
   ]
  },
  {
   "cell_type": "markdown",
   "metadata": {},
   "source": [
    "## Utiliser également l'un des variantes de L'API [Google Translate](https://rapidapi.com/googlecloud/api/google-translate1/) pour donner la liste des différents codes de langues existants. On peut en spécifiant une langue (target) obtenir le terme littéral en cette langue là."
   ]
  },
  {
   "cell_type": "code",
   "execution_count": 9,
   "metadata": {},
   "outputs": [
    {
     "name": "stdout",
     "output_type": "stream",
     "text": [
      "{\"data\":{\"languages\":[{\"language\":\"af\",\"name\":\"Afrikaans\"},{\"language\":\"sq\",\"name\":\"Albanian\"},{\"language\":\"am\",\"name\":\"Amharic\"},{\"language\":\"ar\",\"name\":\"Arabic\"},{\"language\":\"hy\",\"name\":\"Armenian\"},{\"language\":\"as\",\"name\":\"Assamese\"},{\"language\":\"ay\",\"name\":\"Aymara\"},{\"language\":\"az\",\"name\":\"Azerbaijani\"},{\"language\":\"bm\",\"name\":\"Bambara\"},{\"language\":\"eu\",\"name\":\"Basque\"},{\"language\":\"be\",\"name\":\"Belarusian\"},{\"language\":\"bn\",\"name\":\"Bengali\"},{\"language\":\"bho\",\"name\":\"Bhojpuri\"},{\"language\":\"bs\",\"name\":\"Bosnian\"},{\"language\":\"bg\",\"name\":\"Bulgarian\"},{\"language\":\"ca\",\"name\":\"Catalan\"},{\"language\":\"ceb\",\"name\":\"Cebuano\"},{\"language\":\"ny\",\"name\":\"Chichewa\"},{\"language\":\"zh\",\"name\":\"Chinese (Simplified)\"},{\"language\":\"zh-TW\",\"name\":\"Chinese (Traditional)\"},{\"language\":\"co\",\"name\":\"Corsican\"},{\"language\":\"hr\",\"name\":\"Croatian\"},{\"language\":\"cs\",\"name\":\"Czech\"},{\"language\":\"da\",\"name\":\"Danish\"},{\"language\":\"dv\",\"name\":\"Divehi\"},{\"language\":\"doi\",\"name\":\"Dogri\"},{\"language\":\"nl\",\"name\":\"Dutch\"},{\"language\":\"en\",\"name\":\"English\"},{\"language\":\"eo\",\"name\":\"Esperanto\"},{\"language\":\"et\",\"name\":\"Estonian\"},{\"language\":\"ee\",\"name\":\"Ewe\"},{\"language\":\"tl\",\"name\":\"Filipino\"},{\"language\":\"fi\",\"name\":\"Finnish\"},{\"language\":\"fr\",\"name\":\"French\"},{\"language\":\"fy\",\"name\":\"Frisian\"},{\"language\":\"gl\",\"name\":\"Galician\"},{\"language\":\"lg\",\"name\":\"Ganda\"},{\"language\":\"ka\",\"name\":\"Georgian\"},{\"language\":\"de\",\"name\":\"German\"},{\"language\":\"el\",\"name\":\"Greek\"},{\"language\":\"gn\",\"name\":\"Guarani\"},{\"language\":\"gu\",\"name\":\"Gujarati\"},{\"language\":\"ht\",\"name\":\"Haitian Creole\"},{\"language\":\"ha\",\"name\":\"Hausa\"},{\"language\":\"haw\",\"name\":\"Hawaiian\"},{\"language\":\"iw\",\"name\":\"Hebrew\"},{\"language\":\"hi\",\"name\":\"Hindi\"},{\"language\":\"hmn\",\"name\":\"Hmong\"},{\"language\":\"hu\",\"name\":\"Hungarian\"},{\"language\":\"is\",\"name\":\"Icelandic\"},{\"language\":\"ig\",\"name\":\"Igbo\"},{\"language\":\"ilo\",\"name\":\"Iloko\"},{\"language\":\"id\",\"name\":\"Indonesian\"},{\"language\":\"ga\",\"name\":\"Irish Gaelic\"},{\"language\":\"it\",\"name\":\"Italian\"},{\"language\":\"ja\",\"name\":\"Japanese\"},{\"language\":\"jw\",\"name\":\"Javanese\"},{\"language\":\"kn\",\"name\":\"Kannada\"},{\"language\":\"kk\",\"name\":\"Kazakh\"},{\"language\":\"km\",\"name\":\"Khmer\"},{\"language\":\"rw\",\"name\":\"Kinyarwanda\"},{\"language\":\"gom\",\"name\":\"Konkani\"},{\"language\":\"ko\",\"name\":\"Korean\"},{\"language\":\"kri\",\"name\":\"Krio\"},{\"language\":\"ku\",\"name\":\"Kurdish (Kurmanji)\"},{\"language\":\"ckb\",\"name\":\"Kurdish (Sorani)\"},{\"language\":\"ky\",\"name\":\"Kyrgyz\"},{\"language\":\"lo\",\"name\":\"Lao\"},{\"language\":\"la\",\"name\":\"Latin\"},{\"language\":\"lv\",\"name\":\"Latvian\"},{\"language\":\"ln\",\"name\":\"Lingala\"},{\"language\":\"lt\",\"name\":\"Lithuanian\"},{\"language\":\"lb\",\"name\":\"Luxembourgish\"},{\"language\":\"mk\",\"name\":\"Macedonian\"},{\"language\":\"mai\",\"name\":\"Maithili\"},{\"language\":\"mg\",\"name\":\"Malagasy\"},{\"language\":\"ms\",\"name\":\"Malay\"},{\"language\":\"ml\",\"name\":\"Malayalam\"},{\"language\":\"mt\",\"name\":\"Maltese\"},{\"language\":\"mi\",\"name\":\"Maori\"},{\"language\":\"mr\",\"name\":\"Marathi\"},{\"language\":\"mni-Mtei\",\"name\":\"Meiteilon (Manipuri)\"},{\"language\":\"lus\",\"name\":\"Mizo\"},{\"language\":\"mn\",\"name\":\"Mongolian\"},{\"language\":\"my\",\"name\":\"Myanmar (Burmese)\"},{\"language\":\"ne\",\"name\":\"Nepali\"},{\"language\":\"nso\",\"name\":\"Northern Sotho\"},{\"language\":\"no\",\"name\":\"Norwegian\"},{\"language\":\"or\",\"name\":\"Odia (Oriya)\"},{\"language\":\"om\",\"name\":\"Oromo\"},{\"language\":\"ps\",\"name\":\"Pashto\"},{\"language\":\"fa\",\"name\":\"Persian\"},{\"language\":\"pl\",\"name\":\"Polish\"},{\"language\":\"pt\",\"name\":\"Portuguese\"},{\"language\":\"pa\",\"name\":\"Punjabi\"},{\"language\":\"qu\",\"name\":\"Quechua\"},{\"language\":\"ro\",\"name\":\"Romanian\"},{\"language\":\"ru\",\"name\":\"Russian\"},{\"language\":\"sm\",\"name\":\"Samoan\"},{\"language\":\"sa\",\"name\":\"Sanskrit\"},{\"language\":\"gd\",\"name\":\"Scots Gaelic\"},{\"language\":\"sr\",\"name\":\"Serbian\"},{\"language\":\"st\",\"name\":\"Sesotho\"},{\"language\":\"sn\",\"name\":\"Shona\"},{\"language\":\"sd\",\"name\":\"Sindhi\"},{\"language\":\"si\",\"name\":\"Sinhala\"},{\"language\":\"sk\",\"name\":\"Slovak\"},{\"language\":\"sl\",\"name\":\"Slovenian\"},{\"language\":\"so\",\"name\":\"Somali\"},{\"language\":\"es\",\"name\":\"Spanish\"},{\"language\":\"su\",\"name\":\"Sundanese\"},{\"language\":\"sw\",\"name\":\"Swahili\"},{\"language\":\"sv\",\"name\":\"Swedish\"},{\"language\":\"tg\",\"name\":\"Tajik\"},{\"language\":\"ta\",\"name\":\"Tamil\"},{\"language\":\"tt\",\"name\":\"Tatar\"},{\"language\":\"te\",\"name\":\"Telugu\"},{\"language\":\"th\",\"name\":\"Thai\"},{\"language\":\"ti\",\"name\":\"Tigrinya\"},{\"language\":\"ts\",\"name\":\"Tsonga\"},{\"language\":\"tr\",\"name\":\"Turkish\"},{\"language\":\"tk\",\"name\":\"Turkmen\"},{\"language\":\"ak\",\"name\":\"Twi\"},{\"language\":\"uk\",\"name\":\"Ukrainian\"},{\"language\":\"ur\",\"name\":\"Urdu\"},{\"language\":\"ug\",\"name\":\"Uyghur\"},{\"language\":\"uz\",\"name\":\"Uzbek\"},{\"language\":\"vi\",\"name\":\"Vietnamese\"},{\"language\":\"cy\",\"name\":\"Welsh\"},{\"language\":\"xh\",\"name\":\"Xhosa\"},{\"language\":\"yi\",\"name\":\"Yiddish\"},{\"language\":\"yo\",\"name\":\"Yoruba\"},{\"language\":\"zu\",\"name\":\"Zulu\"},{\"language\":\"he\",\"name\":\"Hebrew\"},{\"language\":\"jv\",\"name\":\"Javanese\"},{\"language\":\"zh-CN\",\"name\":\"Chinese (Simplified)\"}]}}\n"
     ]
    }
   ],
   "source": [
    "url = \"https://google-translate1.p.rapidapi.com/language/translate/v2/languages\"\n",
    "\n",
    "querystring = {\"target\":\"fr\"}\n",
    "\n",
    "headers = {\n",
    "\t\"Accept-Encoding\": \"application/gzip\",\n",
    "\t\"X-RapidAPI-Key\": \"84b2e29ef4msh9b4964a1f2bb3f5p179104jsn7289e41c5f6c\",\n",
    "\t\"X-RapidAPI-Host\": \"google-translate1.p.rapidapi.com\"\n",
    "}\n",
    "\n",
    "response = requests.request(\"GET\", url, headers=headers, params=querystring)\n",
    "\n",
    "print(response.text)"
   ]
  },
  {
   "cell_type": "code",
   "execution_count": 18,
   "metadata": {},
   "outputs": [
    {
     "name": "stdout",
     "output_type": "stream",
     "text": [
      "{'list': [{'definition': '[Peace in] [french]', 'permalink': 'http://paix.urbanup.com/3590715', 'thumbs_up': 7, 'author': 'Amaya Yami', 'word': 'Paix', 'defid': 3590715, 'current_vote': '', 'written_on': '2009-01-02T05:32:13.000Z', 'example': \"When the war is [over it'd] be [paix]  day in [france]\", 'thumbs_down': 3}, {'definition': \"1. French for Peace Love\\r\\n2. A [euphemism] for [gay sex] (i.e. Love between [two men] that don't fight)\", 'permalink': 'http://paix-amour.urbanup.com/7516376', 'thumbs_up': 0, 'author': 'BPP_Fan1994', 'word': 'Paix Amour', 'defid': 7516376, 'current_vote': '', 'written_on': '2014-01-25T11:46:58.799Z', 'example': 'Look at how well that [gay couple] get along... I bet they [make beautiful] [paix amour].', 'thumbs_down': 1}]}\n"
     ]
    }
   ],
   "source": [
    "import requests\n",
    "\n",
    "url = \"https://mashape-community-urban-dictionary.p.rapidapi.com/define\"\n",
    "\n",
    "querystring = {\"term\":\"famille\"}\n",
    "\n",
    "headers = {\n",
    "\t\"X-RapidAPI-Key\": \"84b2e29ef4msh9b4964a1f2bb3f5p179104jsn7289e41c5f6c\",\n",
    "\t\"X-RapidAPI-Host\": \"mashape-community-urban-dictionary.p.rapidapi.com\"\n",
    "}\n",
    "\n",
    "response = requests.get(url, headers=headers, params=querystring)\n",
    "\n",
    "print(response.json())"
   ]
  },
  {
   "cell_type": "markdown",
   "metadata": {},
   "source": [
    "## Pour en savoir plus"
   ]
  },
  {
   "cell_type": "markdown",
   "metadata": {},
   "source": [
    "- Les API Rest: https://towardsdatascience.com/introduction-to-rest-apis-90b5d9676004\n",
    "- La librairie [`requests`](https://requests.readthedocs.io/en/latest/)\n",
    "- Développer une API en Python : https://openclassrooms.com/en/courses/4525361-realisez-un-dashboard-avec-tableau/5774811-creez-une-api-avec-flask"
   ]
  }
 ],
 "metadata": {
  "kernelspec": {
   "display_name": "Python 3.10.5 ('tac_venv': venv)",
   "language": "python",
   "name": "python3"
  },
  "language_info": {
   "codemirror_mode": {
    "name": "ipython",
    "version": 3
   },
   "file_extension": ".py",
   "mimetype": "text/x-python",
   "name": "python",
   "nbconvert_exporter": "python",
   "pygments_lexer": "ipython3",
   "version": "3.9.0"
  },
  "vscode": {
   "interpreter": {
    "hash": "b1932ab1d169b4769d1550e799423b6477588e745f266d79d9004c136c81607e"
   }
  }
 },
 "nbformat": 4,
 "nbformat_minor": 4
}
