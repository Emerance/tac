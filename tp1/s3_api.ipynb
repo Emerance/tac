{
 "cells": [
  {
   "cell_type": "markdown",
   "metadata": {},
   "source": [
    "# APIs: requêtes HTTP"
   ]
  },
  {
   "cell_type": "markdown",
   "metadata": {},
   "source": [
    "## Imports"
   ]
  },
  {
   "cell_type": "code",
   "execution_count": 3,
   "metadata": {},
   "outputs": [],
   "source": [
    "import json\n",
    "import requests"
   ]
  },
  {
   "cell_type": "markdown",
   "metadata": {},
   "source": [
    "## Utiliser [Google Translate](https://rapidapi.com/googlecloud/api/google-translate1/) pour fournir la traduction d'un texte en un language cible renseigné"
   ]
  },
  {
   "cell_type": "code",
   "execution_count": null,
   "metadata": {},
   "outputs": [],
   "source": [
    "url = \"https://google-translate1.p.rapidapi.com/language/translate/v2\"\n",
    "\n",
    "payload = \"q=Hello%20every%20body%2C%20how%20are%20you%20this%20morning%3F&target=fr&source=en\"\n",
    "headers = {\n",
    "\t\"content-type\": \"application/x-www-form-urlencoded\",\n",
    "\t\"Accept-Encoding\": \"application/gzip\",\n",
    "\t\"X-RapidAPI-Key\": \"84b2e29ef4msh9b4964a1f2bb3f5p179104jsn7289e41c5f6c\",\n",
    "\t\"X-RapidAPI-Host\": \"google-translate1.p.rapidapi.com\"\n",
    "}\n",
    "\n",
    "response = requests.request(\"POST\", url, data=payload, headers=headers)\n",
    "\n",
    "print(response.text)"
   ]
  },
  {
   "cell_type": "markdown",
   "metadata": {},
   "source": [
    "## Utiliser également l'un des variantes de L'API [Google Translate](https://rapidapi.com/googlecloud/api/google-translate1/) pour donner la liste des différents codes de langues existants. On peut en spécifiant une langue (target) obtenir le terme littéral en cette langue là."
   ]
  },
  {
   "cell_type": "code",
   "execution_count": null,
   "metadata": {},
   "outputs": [],
   "source": [
    "url = \"https://google-translate1.p.rapidapi.com/language/translate/v2/languages\"\n",
    "\n",
    "querystring = {\"target\":\"fr\"}\n",
    "\n",
    "headers = {\n",
    "\t\"Accept-Encoding\": \"application/gzip\",\n",
    "\t\"X-RapidAPI-Key\": \"84b2e29ef4msh9b4964a1f2bb3f5p179104jsn7289e41c5f6c\",\n",
    "\t\"X-RapidAPI-Host\": \"google-translate1.p.rapidapi.com\"\n",
    "}\n",
    "\n",
    "response = requests.request(\"GET\", url, headers=headers, params=querystring)\n",
    "\n",
    "print(response.text)"
   ]
  },
  {
   "cell_type": "markdown",
   "metadata": {},
   "source": [
    "## Pour en savoir plus"
   ]
  },
  {
   "cell_type": "markdown",
   "metadata": {},
   "source": [
    "- Les API Rest: https://towardsdatascience.com/introduction-to-rest-apis-90b5d9676004\n",
    "- La librairie [`requests`](https://requests.readthedocs.io/en/latest/)\n",
    "- Développer une API en Python : https://openclassrooms.com/en/courses/4525361-realisez-un-dashboard-avec-tableau/5774811-creez-une-api-avec-flask"
   ]
  }
 ],
 "metadata": {
  "kernelspec": {
   "display_name": "Python 3.10.5 ('tac_venv': venv)",
   "language": "python",
   "name": "python3"
  },
  "language_info": {
   "codemirror_mode": {
    "name": "ipython",
    "version": 3
   },
   "file_extension": ".py",
   "mimetype": "text/x-python",
   "name": "python",
   "nbconvert_exporter": "python",
   "pygments_lexer": "ipython3",
   "version": "3.9.0"
  },
  "vscode": {
   "interpreter": {
    "hash": "b1932ab1d169b4769d1550e799423b6477588e745f266d79d9004c136c81607e"
   }
  }
 },
 "nbformat": 4,
 "nbformat_minor": 4
}
