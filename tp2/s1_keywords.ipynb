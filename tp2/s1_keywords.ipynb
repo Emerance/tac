{
 "cells": [
  {
   "cell_type": "markdown",
   "metadata": {},
   "source": [
    "# Extraction de Keywords"
   ]
  },
  {
   "cell_type": "markdown",
   "metadata": {},
   "source": [
    "## Imports"
   ]
  },
  {
   "cell_type": "code",
   "execution_count": 1,
   "metadata": {},
   "outputs": [],
   "source": [
    "import os\n",
    "import yake"
   ]
  },
  {
   "cell_type": "markdown",
   "metadata": {},
   "source": [
    "## Extraire les mots clés d'un document avec Yake"
   ]
  },
  {
   "cell_type": "markdown",
   "metadata": {},
   "source": [
    "https://github.com/LIAAD/yake"
   ]
  },
  {
   "cell_type": "code",
   "execution_count": 2,
   "metadata": {},
   "outputs": [
    {
     "data": {
      "text/plain": [
       "<yake.yake.KeywordExtractor at 0x1fd32c14e20>"
      ]
     },
     "execution_count": 2,
     "metadata": {},
     "output_type": "execute_result"
    }
   ],
   "source": [
    "# Instantier l'extracteur de mots clés\n",
    "kw_extractor = yake.KeywordExtractor(lan=\"fr\", top=50)\n",
    "kw_extractor"
   ]
  },
  {
   "cell_type": "code",
   "execution_count": 3,
   "metadata": {},
   "outputs": [],
   "source": [
    "# Lister les Fichiers\n",
    "data_path = \"../data/txt/\"\n",
    "files = os.listdir(data_path)"
   ]
  },
  {
   "cell_type": "code",
   "execution_count": 4,
   "metadata": {},
   "outputs": [],
   "source": [
    "# Annee à rechercher\n",
    "year = \"1960\"\n",
    "files_year = [file for file in files if year in file]"
   ]
  },
  {
   "cell_type": "code",
   "execution_count": 5,
   "metadata": {},
   "outputs": [
    {
     "name": "stdout",
     "output_type": "stream",
     "text": [
      "KB_JB838_1960-01-10_01-00018.txt\n",
      "KB_JB838_1960-01-12_01-00011.txt\n",
      "KB_JB838_1960-01-13_01-00009.txt\n",
      "KB_JB838_1960-01-21_01-00014.txt\n",
      "KB_JB838_1960-01-22_01-00015.txt\n",
      "KB_JB838_1960-01-27_01-00006.txt\n",
      "KB_JB838_1960-01-28_01-00011.txt\n",
      "KB_JB838_1960-01-28_01-00021.txt\n",
      "KB_JB838_1960-01-30_01-00007.txt\n",
      "KB_JB838_1960-01-31_01-00024.txt\n",
      "KB_JB838_1960-02-03_01-00019.txt\n",
      "KB_JB838_1960-02-13_01-00020.txt\n",
      "KB_JB838_1960-02-19_01-00011.txt\n",
      "KB_JB838_1960-02-20_01-00006.txt\n",
      "KB_JB838_1960-02-24_01-00020.txt\n",
      "KB_JB838_1960-02-26_01-00001.txt\n",
      "KB_JB838_1960-02-26_01-00011.txt\n",
      "KB_JB838_1960-03-04_01-00010.txt\n",
      "KB_JB838_1960-03-06_01-00004.txt\n",
      "KB_JB838_1960-03-08_01-00008.txt\n",
      "KB_JB838_1960-03-09_01-00001.txt\n",
      "KB_JB838_1960-03-11_01-00020.txt\n",
      "KB_JB838_1960-03-11_01-00022.txt\n",
      "KB_JB838_1960-03-12_01-00007.txt\n",
      "KB_JB838_1960-03-13_01-00009.txt\n",
      "KB_JB838_1960-03-16_01-00007.txt\n",
      "KB_JB838_1960-03-18_01-00009.txt\n",
      "KB_JB838_1960-03-20_01-00014.txt\n",
      "KB_JB838_1960-03-25_01-00020.txt\n",
      "KB_JB838_1960-03-29_01-00018.txt\n",
      "KB_JB838_1960-04-01_01-00020.txt\n",
      "KB_JB838_1960-04-01_01-00022.txt\n",
      "KB_JB838_1960-04-02_01-00017.txt\n",
      "KB_JB838_1960-04-05_01-00004.txt\n",
      "KB_JB838_1960-04-05_01-00016.txt\n",
      "KB_JB838_1960-04-06_01-00008.txt\n",
      "KB_JB838_1960-04-06_01-00023.txt\n",
      "KB_JB838_1960-04-13_01-00002.txt\n",
      "KB_JB838_1960-04-13_01-00017.txt\n",
      "KB_JB838_1960-04-14_01-00016.txt\n",
      "KB_JB838_1960-04-16_01-00002.txt\n",
      "KB_JB838_1960-04-20_01-00016.txt\n",
      "KB_JB838_1960-04-23_01-00005.txt\n",
      "KB_JB838_1960-04-30_01-00016.txt\n",
      "KB_JB838_1960-05-03_01-00013.txt\n",
      "KB_JB838_1960-05-19_01-00004.txt\n",
      "KB_JB838_1960-05-27_01-00007.txt\n",
      "KB_JB838_1960-05-28_01-00008.txt\n",
      "KB_JB838_1960-05-28_01-00021.txt\n",
      "KB_JB838_1960-05-29_01-00005.txt\n",
      "KB_JB838_1960-06-01_01-00011.txt\n",
      "KB_JB838_1960-06-23_01-00010.txt\n",
      "KB_JB838_1960-07-05_01-00004.txt\n",
      "KB_JB838_1960-07-06_01-00020.txt\n",
      "KB_JB838_1960-07-10_01-00001.txt\n",
      "KB_JB838_1960-07-13_01-00006.txt\n",
      "KB_JB838_1960-07-13_01-00012.txt\n",
      "KB_JB838_1960-07-14_01-00015.txt\n",
      "KB_JB838_1960-07-26_01-00004.txt\n",
      "KB_JB838_1960-07-30_01-00006.txt\n",
      "KB_JB838_1960-08-04_01-00001.txt\n",
      "KB_JB838_1960-08-04_01-00018.txt\n",
      "KB_JB838_1960-08-05_01-00007.txt\n",
      "KB_JB838_1960-08-05_01-00014.txt\n",
      "KB_JB838_1960-08-06_01-00005.txt\n",
      "KB_JB838_1960-08-13_01-00016.txt\n",
      "KB_JB838_1960-08-17_01-00009.txt\n",
      "KB_JB838_1960-08-23_01-00002.txt\n",
      "KB_JB838_1960-08-25_01-00021.txt\n",
      "KB_JB838_1960-08-27_01-00011.txt\n",
      "KB_JB838_1960-08-28_01-00019.txt\n",
      "KB_JB838_1960-09-02_01-00013.txt\n",
      "KB_JB838_1960-09-07_01-00008.txt\n",
      "KB_JB838_1960-09-18_01-00020.txt\n",
      "KB_JB838_1960-09-27_01-00009.txt\n",
      "KB_JB838_1960-10-18_01-00004.txt\n",
      "KB_JB838_1960-10-21_01-00024.txt\n",
      "KB_JB838_1960-10-22_01-00003.txt\n",
      "KB_JB838_1960-10-26_01-00001.txt\n",
      "KB_JB838_1960-10-28_01-00002.txt\n",
      "KB_JB838_1960-10-28_01-00014.txt\n",
      "KB_JB838_1960-10-28_01-00020.txt\n",
      "KB_JB838_1960-10-30_01-00007.txt\n",
      "KB_JB838_1960-11-01_01-00013.txt\n",
      "KB_JB838_1960-11-04_01-00019.txt\n",
      "KB_JB838_1960-11-05_01-00004.txt\n",
      "KB_JB838_1960-11-11_01-00002.txt\n",
      "KB_JB838_1960-11-12_01-00017.txt\n",
      "KB_JB838_1960-11-13_01-00019.txt\n",
      "KB_JB838_1960-11-15_01-00016.txt\n",
      "KB_JB838_1960-11-16_01-00022.txt\n",
      "KB_JB838_1960-11-18_01-00017.txt\n",
      "KB_JB838_1960-11-24_01-00001.txt\n",
      "KB_JB838_1960-11-25_01-00020.txt\n",
      "KB_JB838_1960-12-02_01-00004.txt\n",
      "KB_JB838_1960-12-04_01-00014.txt\n",
      "KB_JB838_1960-12-06_01-00011.txt\n",
      "KB_JB838_1960-12-10_01-00019.txt\n",
      "KB_JB838_1960-12-21_01-00017.txt\n",
      "KB_JB838_1960-12-23_01-00019.txt\n"
     ]
    }
   ],
   "source": [
    "# Imprimer les fichiers de l'année 1960\n",
    "for file in files_year:\n",
    "    print(file)"
   ]
  },
  {
   "cell_type": "code",
   "execution_count": 6,
   "metadata": {},
   "outputs": [
    {
     "data": {
      "text/plain": [
       "100"
      ]
     },
     "execution_count": 6,
     "metadata": {},
     "output_type": "execute_result"
    }
   ],
   "source": [
    "# Nombre de fichiers pour l'année 1960\n",
    "len(files_year)"
   ]
  },
  {
   "cell_type": "code",
   "execution_count": 7,
   "metadata": {},
   "outputs": [
    {
     "name": "stdout",
     "output_type": "stream",
     "text": [
      "KB_JB838_1960-01-10_01-00018.txt mentions these keywords: Agence Rossel, l’Agence Rossel, Ecrire Agence, Faire offre, Rossel num, IMPORTANTE SOCIETE, Importante firme, BRUXELLES CHERCHE, Importante société, Firme Importante, curriculum vitae, offre manuscrite, vltae Agence...\n",
      "KB_JB838_1960-01-12_01-00011.txt mentions these keywords: Van den, Van der, classements officiels, Coq Anglais, Van Houtte, Country Club, Léopold Club, Van Blesebroeck, Astrld Club, Van Belle, Baudouin Club...\n",
      "KB_JB838_1960-01-13_01-00009.txt mentions these keywords: VAN LOOY, Van Stcenbergen, Rik Van, DIVISION III, Fort Jaco, Grand Prix, grand temps, Dimanche division, dimanche dernier...\n",
      "KB_JB838_1960-01-21_01-00014.txt mentions these keywords: chemise lavée, CHEMISES LAVÉES, Office Propriétaires, Propriétaires Tél, WATERLOO TéL, maison rapport, belle maison, PRIX TARIF, francs Office, bonne maison...\n",
      "KB_JB838_1960-01-22_01-00015.txt mentions these keywords: LOUER App, Pastilles Antibiotiques, FER FORGE, spac. app, Pet. app...\n",
      "KB_JB838_1960-01-27_01-00006.txt mentions these keywords: Commerce extérieur, Haute Autorité, Marché commun, politique scientifique, Commission scientifique, recherche scientifique, Conseil national...\n",
      "KB_JB838_1960-01-28_01-00011.txt mentions these keywords: tient natl, male cho, isent ntàe, prèa date, date ture, ntàe dual, SUPPLÉMENT PARAISSANT, sap anb, Bjua sap, Bagoa sap, Bap oun, sauiuioq sap, jx’ÎV'S Ocsr, Banapioa xnu, xnofjq sap, uaiq anb...\n",
      "KB_JB838_1960-01-28_01-00021.txt mentions these keywords: AVANTAGEUX CREDIT, Prince Héritier, voitures FIAT, ACHETE voitures, rue Hccknrs, bon état, rue I.inthout, offre Hcccpt., PRIX AVANTAGEUX, DIRECTION FIAT, MAIL Tél, CHAUFFEUR Voiture, tte offre...\n",
      "KB_JB838_1960-01-30_01-00007.txt mentions these keywords: JAPON ÉCLATE, Japon n’est, METAL ARGENTÉ, Japon moderne, Maison Wolfers, l’usine Japon, Grandes Editions, Etablissements Braconnier, Etablissements Louis, Jacques Danois, Jacques Courtois, bas salaires...\n",
      "KB_JB838_1960-01-31_01-00024.txt mentions these keywords: rayons lumineux, VOITURE Tél, Huiles YACCO, voiture VOLVO, d’une voiture, prix Tél...\n",
      "KB_JB838_1960-02-03_01-00019.txt mentions these keywords: JEUNES FILLES, Bons salaires, BONNES PIQUEUSES, ENFANTS dem...\n",
      "KB_JB838_1960-02-13_01-00020.txt mentions these keywords: rue Egide, rue Elise, Dames dem, Boucherie dem, rue Van, Café dem, Place stable, MOLENBEEK DEMANDE...\n",
      "KB_JB838_1960-02-19_01-00011.txt mentions these keywords: Diables Rouges, lea joueurs...\n",
      "KB_JB838_1960-02-20_01-00006.txt mentions these keywords: REVUE HEBDOMADAIRE, avis tient, tient lieu, service funèbre, présent avis, stricte Intimité, Société Belge, MADAME VEUVE, prie d’annoncer, Sainte Eglise, marché belge, MONSIEUR Jules, MONSIEUR Emile...\n",
      "KB_JB838_1960-02-24_01-00020.txt mentions these keywords: Opel Rek, SOIR MERCREDI, Daily Sketch, DERNIERE EDITION, EDITION PARUE, reproduction interdite, RUE BARA, voitures OPEL...\n",
      "KB_JB838_1960-02-26_01-00001.txt mentions these keywords: JOURNAL QUOTIDIEN, président Eisenhower, port d’Anvers, SAINT MICHEL, Louis XIV, CLASSES MOYENNES, Congo belge, missionnaires belges, regagné Rio, NOUVELLE CAPITALE...\n",
      "KB_JB838_1960-02-26_01-00011.txt mentions these keywords: New York, Emprunt Congo, Congo Belge, marché belge, Angola Diamond, Congo lots, LOTS Lots...\n",
      "KB_JB838_1960-03-04_01-00010.txt mentions these keywords: Réservant fréquemment, Conseil communal, Musique belge, fut battu, MUSIQUE LÉGÈRE, France III, Grand Orchestre, pensions militaires, Vander Hoeven, journée fédérale, plue attachante...\n",
      "KB_JB838_1960-03-06_01-00004.txt mentions these keywords: conseil communal, demeurant rue, habitant rue, d’une fracture, juge Roche, d’une lettre...\n",
      "KB_JB838_1960-03-08_01-00008.txt mentions these keywords: monde MARDI, communiste indonésien, Hommes riches, homme riche, Etats généraux, Rudi Hirigoyen, Mao Tsé, Tsé Toung, vie austère...\n",
      "KB_JB838_1960-03-09_01-00001.txt mentions these keywords: John Kennedy, New York, Affaires étrangères, Van der, Congo belge, UNITED STATES, Conseil national, Affaires économiques, Affaires culturelles, dtl soleil...\n",
      "KB_JB838_1960-03-11_01-00020.txt mentions these keywords: Agence Rossel, som VENDREDI, Ecrire Agence, Bruxelles dem, nouveau PALMOLIVE, Bruxelles demande...\n",
      "KB_JB838_1960-03-11_01-00022.txt mentions these keywords: som VENDREDI, Agence Rossel, OPEL Rek, NYLON FABELNYL, Ecrire Agence, BELLE EPOQUE, Rossel num, époque pratique, jourdan Porte, Porte Louise...\n",
      "KB_JB838_1960-03-12_01-00007.txt mentions these keywords: Van Looy, REVUE HEBDOMADAIRE, Gilbert Desmet, SANTE Bonne, som REVUE, AFFAIRES Bonne, bonne affaire, Rik Van...\n",
      "KB_JB838_1960-03-13_01-00009.txt mentions these keywords: III SERIE, DIVISION III, JUNIORS PROVINCIALE, Van Laecke, équipes Goals, SOIR Beveren, Van Elscn, SCOLAIRES PROVINCIALE, OIVISION SERIE, Nieuport SERIE, Lovcndegem SERIE, Bouillon SERIE, partie fut, but fut, NAMUR DIVISION...\n",
      "KB_JB838_1960-03-16_01-00007.txt mentions these keywords: société communiste, roi Albert, d’une société, D’un pays...\n",
      "KB_JB838_1960-03-18_01-00009.txt mentions these keywords: VAN LOOY, San Remo, Milan-San Remo, White Star, Rik Van, Van Mol, Initiative L'afhlélisme, Stade Fallon, Gilbert Desmet...\n",
      "KB_JB838_1960-03-20_01-00014.txt mentions these keywords: Notaire Van, Notaire Jean-Pierre, rapport rue, Vente publique, Notaire Raucq, Bonne maison, Adjudication définitive, Notaires Ventes...\n",
      "KB_JB838_1960-03-25_01-00020.txt mentions these keywords: BRUXELLES demande, Bruxelles dem, Dem. fem, bons ouvriers, Bruxelles Tél, Agence Rossel, dem. bon, COUTURE dem, Bon salaire, dem. ouvrières...\n",
      "KB_JB838_1960-03-29_01-00018.txt mentions these keywords: Agence Rossel, Ecrire Agence, Rossel num, l'Agence Rossel, Scotties Mouchez-vous, Faire offre, BRUXELLES DEMANDE, JEUNES EMPLOYES, Ecrire âge, papier Scotties, jeunes dactylos, JEUNE HOMME, vitae Agence...\n",
      "KB_JB838_1960-04-01_01-00020.txt mentions these keywords: dem. fem, dem. serveuse, COUTURE dem, jne serveuse, dem. trav...\n",
      "KB_JB838_1960-04-01_01-00022.txt mentions these keywords: Rubber Bitumen, rue Royale, RUE AMERI, Bitumen réimpermeabilise, SOIR VENDREDI, AMERI CAINE, ROOFATEX Rubber, Bitumen Aluminisé, Opel Rek...\n",
      "KB_JB838_1960-04-02_01-00017.txt mentions these keywords: Agence Rossel, l’AGENCE ROSSEL, Ecrire Agence, portefeuille contenant, Importante Usine, IMPORTANTE FIRME, firme importante, fauteuil EPEDA, Bruxelles dem, DEMANDE REPRESENTANT, num tall, lynanétl inuscrlUl, sapai tiv, EPEDA IMPERIA, EPEDA LIDO, aiiex acheter, prix inclus, Faire offre, gros dem, matelas EPEDA...\n",
      "KB_JB838_1960-04-05_01-00004.txt mentions these keywords: PARTI LIBERAL, habitant rue, Jérôme Vanderwysse, demeurant rue, blessés graves, Louis van, jeune fils, domicilié rue, rue Van, d’un coup, d’une fracture...\n",
      "KB_JB838_1960-04-05_01-00016.txt mentions these keywords: bel app, Lux. app, Agence Rossel, app. mod, Ecrire Agence, Pet app, CENTRE App., confort app, FOREST App, COLONIAUX App...\n",
      "KB_JB838_1960-04-06_01-00008.txt mentions these keywords: SOIR MERCREDI, Liliane WOUTERS, LITTERAIRE QUESTIONS, BOIS SEC, VIE LITTERAIRE, Adrien Damié, l’Académie française, parce qu’il, voir figurer, qu’il n’est...\n",
      "KB_JB838_1960-04-06_01-00023.txt mentions these keywords: Opel Rekord, Opel Rek, Contrôle technique, Opel Kap, Austin Healey...\n",
      "KB_JB838_1960-04-13_01-00002.txt mentions these keywords: Sécurité sociale, Force aérienne, Air Force, War Office, divisions anglaises, Royal Air, som MERCREDI, divisions belges, l’armée belge, Marcel Stijns, reine Elisabeth...\n",
      "KB_JB838_1960-04-13_01-00017.txt mentions these keywords: bel app, Prix mod, AVENUE LOUISE, lux. app...\n",
      "KB_JB838_1960-04-14_01-00016.txt mentions these keywords: Confection Dames, Monique Moinet, BANDE MAGNÉTIQUE, HAUTE FIDÉLITÉ, DERNIÈRE NOUVEAUTÉ, Modèles inédits, BarrcHoogte Spelle, l’Hôtel Atlanta, rayon Confection, Moinet magasin, choix Signé, Signé H.IVliV, H.IVliV Oostduinkcrke, soir uniquement, dernière révélation, Dulnpnrk Tél, salon dore, Oostduinkcrke Villa, créateurs parisiens, voit jeune, ensemble.de choix...\n",
      "KB_JB838_1960-04-16_01-00002.txt mentions these keywords: sfsss SAMEDI, reine Elisabeth, Cercle pharmaceutique, CONFÉRENCE siir...\n",
      "KB_JB838_1960-04-20_01-00016.txt mentions these keywords: vanlioo Qiiiccp.fi, MUM Stick, BEL APPART, francs Tél...\n",
      "KB_JB838_1960-04-23_01-00005.txt mentions these keywords: Maria Kalamkarian, Galerie Tretyakov, Julien Green, Charles Goren...\n",
      "KB_JB838_1960-04-30_01-00016.txt mentions these keywords: CRKATKO LÉGERS, Ilruxeltoei CRKATKO, Agence Rossel, l’Agence Rossel, Rossel num, PURE LAINE, Ecrire Agence, Bruxelles demande, EMPLOYE bilingue, Société importante, Importante FIRME, FIRME INDUSTRIELLE, bolssonl ttiTn...\n",
      "KB_JB838_1960-05-03_01-00013.txt mentions these keywords: Notaire Van, Van Halteren, bâtir Cad, Partie libre, commerce Cad, Enfants admis, rapport Cad, New Follies, THEATRE NATIONAL, Jean Meyer...\n",
      "KB_JB838_1960-05-19_01-00004.txt mentions these keywords: Vlaamsch Economisch, Economisch Verbond, arrêté royal, AMIDON REMY, Jules Desy, AMIDON PRESTO, Van Cauwenbergh, CONSEIL COMMUNAL, domicilié rue, rue Coenraets, mercredi matin...\n",
      "KB_JB838_1960-05-27_01-00007.txt mentions these keywords: Van Looy, Van Tongerloo, Rik Van, Ivo Molenaers, Van Gompel, CLASSEMENT FINAL, France Livourne, Van Meenen, Van Aerde, Wlm Van, Van Duynselaer, Van Mackelbergh, Van Vaerenberg, Van Sluys, LOUISON BOBET, Tour d'Italie, Bernard Gauthier...\n",
      "KB_JB838_1960-05-28_01-00008.txt mentions these keywords: Emile Daems, Van den, Van Looy, Van Looveren, Ilédiissemenl d'Hoevenaars, Van Pottelherghe, Van Meenen, Van Parys, Tour d’Italie, aequo Van...\n",
      "KB_JB838_1960-05-28_01-00021.txt mentions these keywords: Agence Rossel, Ecrire Agence, Rossel num, Rue Neuve, Bruxelles Tél, Ecrire Ag.Rossel...\n",
      "KB_JB838_1960-05-29_01-00005.txt mentions these keywords: roi George, Reine Elisabeth, WINDSOR George, prince George, futur George, Concerto imposé, futur roi, reine Victoria, reine Mary, Jérôme Lowenthal, Ronald Turini, roi passionné, Kenneth Amada...\n",
      "KB_JB838_1960-06-01_01-00011.txt mentions these keywords: MARCHÉ COMMUN, OAA Valeur, mouette Valeur, Valeur mouette, coloris mode, PRIX MARCHÉ, tailles Valeur, ARTICLES FRANÇAIS, GANTELETS tannés, MOUCHOIR tissé, OCCASIONS SENSATIONNELLES, acier Ugl, MILLIERS D’ARTICLES...\n",
      "KB_JB838_1960-06-23_01-00010.txt mentions these keywords: bat Mme, bat MUe, SIMPLE MESSIEURS, simple dames, Grand Prix, MESSIEURS CATEGORIE, Bat Mlle, Schaetzen bat, bat Denthlnc...\n",
      "KB_JB838_1960-07-05_01-00004.txt mentions these keywords: vittel grande, grande source, Peau minérale, lundi matin, Source SOURCE, moyennes entreprises, suite d’une, dimanche soir, VITTEL HEPAR...\n",
      "KB_JB838_1960-07-06_01-00020.txt mentions these keywords: Mac Pherson, Pherson TAUNUS, VRAI moteur, suspension Mac, réellement ACCESSIBLES, SOIR MERCREDI, jne servante, ans dem, JAMAIS DISCUTEE, portières arrière, freins totalement, servante int...\n",
      "KB_JB838_1960-07-10_01-00001.txt mentions these keywords: loi belge, Force publique, FORCES BELGES, troupes belges, Congo belge, JOURNAL QUOTIDIEN, Société libre, soldats belges, qu’il faut...\n",
      "KB_JB838_1960-07-13_01-00006.txt mentions these keywords: New York, note soviétique, gouvernement soviétique, juillet Juillet, YORK Cours, sénateur Kennedy, juillet COURS, Cours jour, peine soutenue, Clôture New, mardi matin, jour Juillet, Cour suprême, président Eisenhower...\n",
      "KB_JB838_1960-07-13_01-00012.txt mentions these keywords: Bill Alley, Van den, temps exigé, Coupe d’Europe, Anne Van, Van Parijs, Mme Van, Américain Bill, Belgique Dames, Van Parys, Van Steenwinckel, Van Schric, Van Schoor, Gaby Van...\n",
      "KB_JB838_1960-07-14_01-00015.txt mentions these keywords: HACHE MELANGE, Propriétaires Tél, ETIBRUX TéL, LAITERIE DERAEREN, VENDRE VILLA, francs Tél, fluctuations saisonnières...\n",
      "KB_JB838_1960-07-26_01-00004.txt mentions these keywords: Nations Unies, NEW YORK, Claudette Brigillon, eaux internationales, blessés graves, aérien soviétique, lundi matin, CABOT LODGE, YORK Cours, chasseur soviétique, Clôture Londres, juillet COURS...\n",
      "KB_JB838_1960-07-30_01-00006.txt mentions these keywords: Mme Van, Bruxelles Mme, Mme Delaet, national Congo, Mme veuve, Congo belge, Mme Lefeb, Mme Francis, Mme Gomes, Mme Burllon, Mme Ferrenn, Mme Flala...\n",
      "KB_JB838_1960-08-04_01-00001.txt mentions these keywords: gouvernement belge, JOURNAL QUOTIDIEN, SOLDATS BELGES, soldat belge, gouvernement katangais, troupes belges, secrétaire général, Katanga C’est, Nations Unies, présence d’une, Congo Réception...\n",
      "KB_JB838_1960-08-04_01-00018.txt mentions these keywords: DEM. fem, l’Agence Rossel, jne fem, BRUXELLES RUE, bon salaire, PRETS Dem, Rue Neuve, rue Fem...\n",
      "KB_JB838_1960-08-05_01-00007.txt mentions these keywords: gouvernement belge, Nations Unies, ministres congo, Léopoldville Léopoldville, Congo parce, New York, peuple congolais, gouvernement congolais, Congo n’est, médecins belges, politique congolaise, Force publique...\n",
      "KB_JB838_1960-08-05_01-00014.txt mentions these keywords: VACANCES RASSASIEZ-VOUS, Enfanta admis, sir André, Enf. adm, Grrforjr PECK, Ann TODR, Enf. admis, Darry COWL, JOURDAN Séances, dit Hugues, Génial maître, BALCON Séance, Francis BLANCHE...\n",
      "KB_JB838_1960-08-06_01-00005.txt mentions these keywords: Abderahmane Lakllfi, Piétro Antonelli, Paul Doumer, Georges Hapin, Marie note, Marie Bashkirtseff, répond Marie, algérien Abderahmane, Arrive Piétro, saint Georges, retenu l’attention, pareille circonstance, châtiments L’Eürope, faisait autrefois...\n",
      "KB_JB838_1960-08-13_01-00016.txt mentions these keywords: Ecrire Agence, jne fille, Agence Rossel, ANCIENNE dressoir, DtRENISTERIE ANCIENNE, BOIS CHEF, DEM. fem, l’Agence Rossel...\n",
      "KB_JB838_1960-08-17_01-00009.txt mentions these keywords: Jacques BIEBUYCK, VIE LITTERAIRE, d’un roman, Jacques qu’il, Guido Piovene, Tennessee Williams, LITTERAIRE QUESTIONS, jour Lyon, Maurice Pons...\n",
      "KB_JB838_1960-08-23_01-00002.txt mentions these keywords: plus souvent, d’un vertige, plus tard, photographies Plu, système nerveux, plus grandes, plus fort, jusqu’aux plus, d’un concours...\n",
      "KB_JB838_1960-08-25_01-00021.txt mentions these keywords: Bruxelles Tél, Bon état, très bel., vendre Tél, Leabroussart Tél...\n",
      "KB_JB838_1960-08-27_01-00011.txt mentions these keywords: Grand Prix, DIVISION III, finale Grand, Demi-finale Grand, Ire Journée, Grand Handicap, TOUR FINAL, éliminatoire Grand, GROS LOT...\n",
      "KB_JB838_1960-08-28_01-00019.txt mentions these keywords: Agence Rossel, l’AGENCE ROSSEL, Faire offre, curriculum vitae, Rossel num, BRUXELLES demande, offre manuscrite, ans maximum, IMPORTANTE FIRME, Agence HAVAS...\n",
      "KB_JB838_1960-09-02_01-00013.txt mentions these keywords: Congo belge, Congo lots, New York, Crown Mines, Colonie Congo, LOTS Lots, Pays Liège, Daggafonteln Mines, Emprunt Congo...\n",
      "KB_JB838_1960-09-07_01-00008.txt mentions these keywords: CONCOURS Truies, CONCOURS Verrats, CONCOURS Femelles, BILLET LIEGEOIS, LIEGEOIS Àrgenteau, Truies nées, CONCOURS CONCOURS, CONCOURS Taureaux, Van Doorslaer, DEUXIEME CONCOURS, TROISIEME CONCOURS, QUATRIEME CONCOURS, CINQUIEME CONCOURS, SEPTIEME CONCOURS, HUITIEME CONCOURS, DIXIEME CONCOURS, NEUVIEME CONCOURS, CONCOURS Vaches, Van den, Van Malder, tient lieu...\n",
      "KB_JB838_1960-09-18_01-00020.txt mentions these keywords: l’Agence Rossel, Faire offre, Agence Rossel, www WWW, WWWWWW WWW, WWW WWWWWW, IMPORTANTE SOCIETE, BRUXELLES Télcph, Laboratoire dem, Jeunes Filles...\n",
      "KB_JB838_1960-09-27_01-00009.txt mentions these keywords: EPREUVE Satisfaction, Sciences GRADE, PREMIERE EPREUVE, DEUXIEME EPREUVE, Van Den, Droit GRADE, Lettres GRADE, EPREUVE Distinction, Sciences politiques, sociales GRADE, COMPLEMENTAIRE Satisfaction, Sécurité sociale, Van Gogh, van Zeeland...\n",
      "KB_JB838_1960-10-18_01-00004.txt mentions these keywords: Patrice Michelin, demeurant rue, cours d’une, domicilié rue, Van Birkel, lundi matin, gauche L'extrême, habitant rue, Charles Van, cycliste fut, L'extrême droite, décision Importante...\n",
      "KB_JB838_1960-10-21_01-00024.txt mentions these keywords: Jean Rouch, Peter Brook, MODERATO CANTABILE, Peter SELLERS, Grand Nord, Jeanne Moreau, Anne Desbaredes, grands films, Pascale AUDRET, d'un film, Gordon Douglas, cinéma britannique...\n",
      "KB_JB838_1960-10-22_01-00003.txt mentions these keywords: Nations Unies, président Tshombe, gouvernement katangais, vendredi matin, Gaulle visite, Fidel Castro, vendredi soir, Thomas Tshombe, s’est écrié, Algérie algérienne...\n",
      "KB_JB838_1960-10-26_01-00001.txt mentions these keywords: JOURNAL QUOTIDIEN, général Salan, techniciens belges, UNITED STATES, CONGO Bruxelles, gouvernement belge, SITUATION POLITIQUE, l’hôtel d’Ursel, CHEQUES POSTAUX...\n",
      "KB_JB838_1960-10-28_01-00002.txt mentions these keywords: CONFERENCE BENELUX, plus grande, réadaptation professionnelle, l’Union économique, Traité d’Union...\n",
      "KB_JB838_1960-10-28_01-00014.txt mentions these keywords: ECZEMA CHOISISSEZ, NOVAK PANORAMIC, Dôme Flltreur, CHOISISSEZ VITRE, MAGEC NOVAK, VITRE TÉLÉVISEUR, REMÈDE DDD, MAGEC PLACEMENT, SOIE VENDREDI, SERVICE MAGEC, Propriétaires Tél, FORMULE ECONOMIQUE, DÉPANNAGE EXPRESS, EXPRESS DOUBLE, DOUBLE GARANTIE, GARANTIE SUPPRIMEZ, vision panoramique, Tube carré, Bruxelles Tél, THEATRE FLAMAND...\n",
      "KB_JB838_1960-10-28_01-00020.txt mentions these keywords: dem. fem, Bons gages, servante Int, Agence Rossel, Légers sous-vêtements, SOIR VENDREDI, Taverne dem, Ecrire Agence, Dem servante, BRUXELLES Tél, FEMMES D’OUVRAGE, dem. pers...\n",
      "KB_JB838_1960-10-30_01-00007.txt mentions these keywords: SOIR Evénement, but hongrois, Van Himst, but belge, l’équipe belge, Evénement inattendu, Jean Nicolay, défenseurs hongrois, Diables rouges...\n",
      "KB_JB838_1960-11-01_01-00013.txt mentions these keywords: Van Velsen, classement Interclubs, van den, Cross Populaire, Van Opphem, VAllemand Trôger, Van Steen, mètres libre, classement individuel, classement interécoles, Van Damme, Van Looy, Van Aerde, Van Loon, Itln van, Hollandaise Van, Rote Erde...\n",
      "KB_JB838_1960-11-04_01-00019.txt mentions these keywords: Dem. fem, chaussant Mollir, Jne fem, Bon salaire, jne fille...\n",
      "KB_JB838_1960-11-05_01-00004.txt mentions these keywords: rue Van, Haute Autorité, Fernand Loiseau, demeurant rue, d’une fracture, Michel Loiseau, grièvement blessé, vendredi matin, fut transportée, jeune homme, Van Eyckcn, Jeudi soir, Van Mullem...\n",
      "KB_JB838_1960-11-11_01-00002.txt mentions these keywords: Coordination économique, loi unique, Leb groupes, parlementaires libéraux, jeudi matin, budget ordinaire, Chambre économique, POLITIQUE BUDGÉTAIRE...\n",
      "KB_JB838_1960-11-12_01-00017.txt mentions these keywords: Agence Rossel, Faire offre, curriculum vitae, l’Agence Rossel, Importante Société, IMPORTANTE DEMANDE, offre manuscrite, Jeune fille...\n",
      "KB_JB838_1960-11-13_01-00019.txt mentions these keywords: Agence Rossel, Rossel num, entrée Immédiate, curriculum vitae, bonnes notions, l’AGENCE ROSSEL, pet. app, Bel app, Rossel Brux...\n",
      "KB_JB838_1960-11-15_01-00016.txt mentions these keywords: FAMILLE HEUREUSE, Familles Heureuses, villa mod, maison rapp, Quartier Général...\n",
      "KB_JB838_1960-11-16_01-00022.txt mentions these keywords: Meuble Rustique, meuble ràdiophono, ràdiophono Philips, devis gratuit, vraiment attractif, pouvez réaliser, sonorité prodigieuse, ràdiophono stéréo, Bruxelles Tél, disques stéréo, prix vraiment, Fréquence Modulée, Conception moderne, lignes modernes, Philips Demandez, PEINTURE DEVIS, Midi Tél...\n",
      "KB_JB838_1960-11-18_01-00017.txt mentions these keywords: HIVERI Eden, Eden hivemol, HAUTE-BAVIERE SENSATIONNELLE, Bel app, louer app, Renseignemontfi FREMDENVERKEHRSVERBAND...\n",
      "KB_JB838_1960-11-24_01-00001.txt mentions these keywords: entreprises américaines, colonel Kokolo, marchés européens, camp Léopold, Marché commun, mardi soir, colonel Mobutu, PACTE SCOLAIRE, Affaires économiques, d’un ministre, Toison d’Or...\n",
      "KB_JB838_1960-11-25_01-00020.txt mentions these keywords: Dem. fem, Jne fille, JNE mén, Dem fem, servante int, avenue Louise, FEMMES D’OUVRAGE, Ménage Int...\n",
      "KB_JB838_1960-12-02_01-00004.txt mentions these keywords: habitant rue, Robert Mertens, demeurant rue, colonel Remy, PUBLIC REQUIERT, voiture rue, lieu dit, grièvement blessé, d'Annie Grysolle, jeudi matin, Giuseppe Montesi, jeune homme...\n",
      "KB_JB838_1960-12-04_01-00014.txt mentions these keywords: VENTE PUBLIQUE, notaire vendeur, Bruxelles MAISON, BONNE MAISON, Notaire André, rapport rue, MAISON D’HABITATION, BRUXELLES LOT, Notaire Robert, SCHAERBEEK MAISON, ADJUDICATION DEFINITIVE...\n",
      "KB_JB838_1960-12-06_01-00011.txt mentions these keywords: Grand Prix, derby Anderlecht, Van Kerrebroek, willy Mairesse, Mairesse fit, Van Geel...\n",
      "KB_JB838_1960-12-10_01-00019.txt mentions these keywords: Biscuits Rem, Biscuiterie Alsacienne, Alsacienne Confiserie, Charcuterie Alsacienne, Alsacienne Fincker, Artus Biscuits, Amieux Rivoir, Carret Chocolat, Chocolat Cemoi, Cemoi Biscottes, Biscottes Darry, Darry Alsaglace, Alsaglace Feyel, Feyel Cassegrain, Rem Biscuiterie, Jaumart Charcuterie, Marquise Amora, Battendî.er Mîlliat, Mîlliat Frères...\n",
      "KB_JB838_1960-12-21_01-00017.txt mentions these keywords: Ets BRACONNIER, BRACONNIER Siège, Agence Rossel, Rossel num, Ecrire Agence, Siège central, DACTYLO BILINGUE, Agença Rossel, Bruxelles dem, STENO DACTYLO...\n",
      "KB_JB838_1960-12-23_01-00019.txt mentions these keywords: l'Agence Rossel, som Moment, Moment critique, Rossel num, Agence Rossel, Importante firme, service militaire, entrée immédiate, Firme dem, demande VENDEUR, critique dons, place demande, IMPORTANTE MAISON...\n"
     ]
    }
   ],
   "source": [
    "# Récupérer les textes des différents fichiers\n",
    "for f in sorted(files_year):\n",
    "    text = open(os.path.join(data_path, f), 'r', encoding=\"utf-8\").read()\n",
    "    keywords = kw_extractor.extract_keywords(text)\n",
    "    kept = []\n",
    "    for kw, score in keywords:\n",
    "        words = kw.split()\n",
    "        if len(words) == 2:\n",
    "            kept.append(kw)\n",
    "    print(f\"{f} mentions these keywords: {', '.join(kept)}...\")\n",
    "    "
   ]
  },
  {
   "cell_type": "code",
   "execution_count": 8,
   "metadata": {},
   "outputs": [],
   "source": [
    "# Creation de la variable corpus qui recupère les différents textes\n",
    "corpus = \" \".join(kept)"
   ]
  },
  {
   "cell_type": "code",
   "execution_count": 9,
   "metadata": {},
   "outputs": [
    {
     "data": {
      "text/plain": [
       "[('Agence Rossel Importante', 0.001129575592168241),\n",
       " ('num Agence Rossel', 0.0012757367399779894),\n",
       " ('Rossel num Agence', 0.0012757367399779897),\n",
       " ('som Moment Moment', 0.0014275979132747174),\n",
       " ('demande IMPORTANTE MAISON', 0.0015278180159625462),\n",
       " ('Rossel som Moment', 0.0016330464250362787),\n",
       " (\"l'Agence Rossel som\", 0.001681364047599293),\n",
       " ('Rossel Importante firme', 0.0019689815428350346),\n",
       " ('Moment Moment critique', 0.001975589573315885),\n",
       " ('Moment critique Rossel', 0.00226138720958605),\n",
       " ('VENDEUR critique dons', 0.002378731730073264),\n",
       " ('dem demande VENDEUR', 0.0023787317300732642),\n",
       " ('Importante firme service', 0.002651780795639714),\n",
       " ('firme service militaire', 0.002998748620413131),\n",
       " ('entrée immédiate Firme', 0.002998748620413131),\n",
       " ('immédiate Firme dem', 0.002998748620413131),\n",
       " ('demande VENDEUR critique', 0.0033062811655559113),\n",
       " ('service militaire entrée', 0.0033918654715221525),\n",
       " ('militaire entrée immédiate', 0.0033918654715221525),\n",
       " ('critique Rossel num', 0.003492463457982543),\n",
       " ('Firme dem demande', 0.004166403513783152),\n",
       " ('place demande IMPORTANTE', 0.004166403513783152),\n",
       " ('dons place demande', 0.004716105466905465),\n",
       " ('critique dons place', 0.004716105466905466),\n",
       " ('IMPORTANTE MAISON', 0.0073080098830776265),\n",
       " ('Agence Rossel', 0.008445593157460466),\n",
       " ('Moment Moment', 0.009443130957003495),\n",
       " (\"l'Agence Rossel\", 0.011098900399536846),\n",
       " ('num Agence', 0.011306583776092746),\n",
       " ('som Moment', 0.01444800951854399),\n",
       " ('Rossel Importante', 0.014634206817657106),\n",
       " ('demande VENDEUR', 0.015557346154595607),\n",
       " ('VENDEUR critique', 0.015557346154595607),\n",
       " ('Rossel som', 0.016510617919810944),\n",
       " ('Rossel num', 0.016510617919810944),\n",
       " ('Importante firme', 0.01739516387302984),\n",
       " ('firme service', 0.01963243724442403),\n",
       " ('immédiate Firme', 0.01963243724442403),\n",
       " ('Firme dem', 0.01963243724442403),\n",
       " ('Moment critique', 0.019903048774951755),\n",
       " ('service militaire', 0.022163725292538926),\n",
       " ('militaire entrée', 0.022163725292538926),\n",
       " ('entrée immédiate', 0.022163725292538926),\n",
       " ('dons place', 0.022163725292538926),\n",
       " ('critique Rossel', 0.022761896285102202),\n",
       " ('demande IMPORTANTE', 0.027097212548756886),\n",
       " ('dem demande', 0.030619866756537387),\n",
       " ('critique dons', 0.030619866756537387),\n",
       " ('place demande', 0.030619866756537387),\n",
       " ('Rossel', 0.03676791526432234)]"
      ]
     },
     "execution_count": 9,
     "metadata": {},
     "output_type": "execute_result"
    }
   ],
   "source": [
    "# Extraire les mots clés de ce texte\n",
    "keywords = kw_extractor.extract_keywords(corpus)\n",
    "keywords"
   ]
  },
  {
   "cell_type": "code",
   "execution_count": 10,
   "metadata": {},
   "outputs": [
    {
     "data": {
      "text/plain": [
       "['IMPORTANTE MAISON',\n",
       " 'Agence Rossel',\n",
       " 'Moment Moment',\n",
       " \"l'Agence Rossel\",\n",
       " 'num Agence',\n",
       " 'som Moment',\n",
       " 'Rossel Importante',\n",
       " 'demande VENDEUR',\n",
       " 'VENDEUR critique',\n",
       " 'Rossel som',\n",
       " 'Rossel num',\n",
       " 'Importante firme',\n",
       " 'firme service',\n",
       " 'immédiate Firme',\n",
       " 'Firme dem',\n",
       " 'Moment critique',\n",
       " 'service militaire',\n",
       " 'militaire entrée',\n",
       " 'entrée immédiate',\n",
       " 'dons place',\n",
       " 'critique Rossel',\n",
       " 'demande IMPORTANTE',\n",
       " 'dem demande',\n",
       " 'critique dons',\n",
       " 'place demande']"
      ]
     },
     "execution_count": 10,
     "metadata": {},
     "output_type": "execute_result"
    }
   ],
   "source": [
    "# Ne garder que les bigrammes\n",
    "kept = []\n",
    "for kw, score in keywords:\n",
    "    words = kw.split()\n",
    "    if len(words) == 2:\n",
    "        kept.append(kw)\n",
    "kept"
   ]
  }
 ],
 "metadata": {
  "kernelspec": {
   "display_name": "Python 3.10.5 ('tac_venv': venv)",
   "language": "python",
   "name": "python3"
  },
  "language_info": {
   "codemirror_mode": {
    "name": "ipython",
    "version": 3
   },
   "file_extension": ".py",
   "mimetype": "text/x-python",
   "name": "python",
   "nbconvert_exporter": "python",
   "pygments_lexer": "ipython3",
   "version": "3.9.0"
  },
  "vscode": {
   "interpreter": {
    "hash": "b1932ab1d169b4769d1550e799423b6477588e745f266d79d9004c136c81607e"
   }
  }
 },
 "nbformat": 4,
 "nbformat_minor": 4
}
