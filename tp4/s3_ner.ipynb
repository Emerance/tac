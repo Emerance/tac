{
 "cells": [
  {
   "cell_type": "markdown",
   "metadata": {},
   "source": [
    "# Reconnaissance d'entités nommées avec SpaCy"
   ]
  },
  {
   "cell_type": "markdown",
   "metadata": {},
   "source": [
    "La documentation est accessible ici: https://spacy.io/api"
   ]
  },
  {
   "cell_type": "markdown",
   "metadata": {},
   "source": [
    "## Imports"
   ]
  },
  {
   "cell_type": "code",
   "execution_count": 4,
   "metadata": {},
   "outputs": [
    {
     "name": "stderr",
     "output_type": "stream",
     "text": [
      "[nltk_data] Downloading package stopwords to\n",
      "[nltk_data]     C:\\Users\\User\\AppData\\Roaming\\nltk_data...\n",
      "[nltk_data]   Package stopwords is already up-to-date!\n"
     ]
    }
   ],
   "source": [
    "from collections import Counter\n",
    "from wordcloud import WordCloud\n",
    "import os\n",
    "import nltk\n",
    "nltk.download('stopwords')\n",
    "from nltk.corpus import stopwords\n",
    "from IPython.display import Image\n",
    "from collections import defaultdict\n",
    "import sys\n",
    "import spacy\n",
    "from spacy.lang.fr.examples import sentences"
   ]
  },
  {
   "cell_type": "code",
   "execution_count": 5,
   "metadata": {},
   "outputs": [],
   "source": [
    "nlp = spacy.load('fr_core_news_md')"
   ]
  },
  {
   "cell_type": "markdown",
   "metadata": {},
   "source": [
    "## Appliquer la reconnaissance d'entités nommées sur notre corpus"
   ]
  },
  {
   "cell_type": "code",
   "execution_count": 7,
   "metadata": {},
   "outputs": [],
   "source": [
    "# Charger le texte\n",
    "n=100000\n",
    "text = open(\"../data/all.txt\", encoding='utf-8').read()[:n]"
   ]
  },
  {
   "cell_type": "code",
   "execution_count": 8,
   "metadata": {},
   "outputs": [
    {
     "name": "stdout",
     "output_type": "stream",
     "text": [
      "CPU times: total: 8.8 s\n",
      "Wall time: 10.2 s\n"
     ]
    }
   ],
   "source": [
    "%%time\n",
    "# Traiter le texte\n",
    "\n",
    "doc = nlp(text)"
   ]
  },
  {
   "cell_type": "markdown",
   "metadata": {},
   "source": [
    "## Reconnaissance des Personnes"
   ]
  },
  {
   "cell_type": "code",
   "execution_count": 1,
   "metadata": {},
   "outputs": [
    {
     "ename": "NameError",
     "evalue": "name 'defaultdict' is not defined",
     "output_type": "error",
     "traceback": [
      "\u001b[1;31m---------------------------------------------------------------------------\u001b[0m",
      "\u001b[1;31mNameError\u001b[0m                                 Traceback (most recent call last)",
      "Cell \u001b[1;32mIn[1], line 2\u001b[0m\n\u001b[0;32m      1\u001b[0m \u001b[38;5;66;03m# Compter les entités\u001b[39;00m\n\u001b[1;32m----> 2\u001b[0m people \u001b[38;5;241m=\u001b[39m \u001b[43mdefaultdict\u001b[49m(\u001b[38;5;28mint\u001b[39m)\n\u001b[0;32m      3\u001b[0m \u001b[38;5;28;01mfor\u001b[39;00m ent \u001b[38;5;129;01min\u001b[39;00m doc\u001b[38;5;241m.\u001b[39ments:\n\u001b[0;32m      4\u001b[0m     \u001b[38;5;28;01mif\u001b[39;00m ent\u001b[38;5;241m.\u001b[39mlabel_ \u001b[38;5;241m==\u001b[39m \u001b[38;5;124m\"\u001b[39m\u001b[38;5;124mPER\u001b[39m\u001b[38;5;124m\"\u001b[39m \u001b[38;5;129;01mand\u001b[39;00m \u001b[38;5;28mlen\u001b[39m(ent\u001b[38;5;241m.\u001b[39mtext) \u001b[38;5;241m>\u001b[39m \u001b[38;5;241m3\u001b[39m:\n",
      "\u001b[1;31mNameError\u001b[0m: name 'defaultdict' is not defined"
     ]
    }
   ],
   "source": [
    "# Compter les entités\n",
    "people = defaultdict(int)\n",
    "for ent in doc.ents:\n",
    "    if ent.label_ == \"PER\" and len(ent.text) > 3:\n",
    "        people[ent.text] += 1"
   ]
  },
  {
   "cell_type": "code",
   "execution_count": 10,
   "metadata": {},
   "outputs": [
    {
     "name": "stdout",
     "output_type": "stream",
     "text": [
      "Franco apparait 4 fois dans le corpus\n",
      "Lénine apparait 3 fois dans le corpus\n",
      "Debosk apparait 3 fois dans le corpus\n",
      "Thonet apparait 3 fois dans le corpus\n",
      "Gilly apparait 3 fois dans le corpus\n",
      "Renette apparait 2 fois dans le corpus\n",
      "Thys apparait 2 fois dans le corpus\n",
      "Van Overstraeten apparait 2 fois dans le corpus\n",
      "Gluck apparait 2 fois dans le corpus\n",
      "Radiola apparait 2 fois dans le corpus\n",
      "Karl Marx apparait 2 fois dans le corpus\n",
      "Marx apparait 2 fois dans le corpus\n",
      "Joseph apparait 2 fois dans le corpus\n",
      "Léon TROTSKY apparait 2 fois dans le corpus\n",
      "Lundi apparait 2 fois dans le corpus\n",
      "Joséphine Duchêne apparait 2 fois dans le corpus\n",
      "Jumet apparait 2 fois dans le corpus\n",
      "Sujet apparait 2 fois dans le corpus\n",
      "S h. apparait 2 fois dans le corpus\n",
      "dégraisseuscs apparait 1 fois dans le corpus\n",
      "ïemède apparait 1 fois dans le corpus\n",
      "v ïour apparait 1 fois dans le corpus\n",
      "Yves Guyot apparait 1 fois dans le corpus\n",
      "Vcus apparait 1 fois dans le corpus\n",
      "Nonl Hélas I apparait 1 fois dans le corpus\n",
      "oommencéo apparait 1 fois dans le corpus\n",
      "LENINE apparait 1 fois dans le corpus\n",
      "Bolcheviks apparait 1 fois dans le corpus\n",
      "Vladimir lllich apparait 1 fois dans le corpus\n",
      "ani-iva apparait 1 fois dans le corpus\n",
      "taul Dubois apparait 1 fois dans le corpus\n",
      "M. De Sniedt apparait 1 fois dans le corpus\n",
      "Maurice Martin apparait 1 fois dans le corpus\n",
      "Camille Goffin apparait 1 fois dans le corpus\n",
      "naieht de Hanzinne apparait 1 fois dans le corpus\n",
      "péniblemèmt apparait 1 fois dans le corpus\n",
      "Martin apparait 1 fois dans le corpus\n",
      "Goffin apparait 1 fois dans le corpus\n",
      "Léon Grooten apparait 1 fois dans le corpus\n",
      "Mortier apparait 1 fois dans le corpus\n",
      "Van Speybroeek apparait 1 fois dans le corpus\n",
      "Thys yeulirt apparait 1 fois dans le corpus\n",
      "MM. Mortier apparait 1 fois dans le corpus\n",
      "Van Sperybroeelt apparait 1 fois dans le corpus\n",
      "Van Spej<- apparait 1 fois dans le corpus\n",
      "Dimanche apparait 1 fois dans le corpus\n",
      "M. Goy apparait 1 fois dans le corpus\n",
      "Mme Goy apparait 1 fois dans le corpus\n",
      "Jo chaffeur apparait 1 fois dans le corpus\n",
      "Clément Degedo apparait 1 fois dans le corpus\n"
     ]
    }
   ],
   "source": [
    "# Trier et imprimer\n",
    "\n",
    "sorted_people = sorted(people.items(), key=lambda kv: kv[1], reverse=True)\n",
    "\n",
    "for person, freq in sorted_people[:50]:\n",
    "    print(f\"{person} apparait {freq} fois dans le corpus\")"
   ]
  },
  {
   "cell_type": "markdown",
   "metadata": {},
   "source": [
    "## Reconnaissance des Lieux"
   ]
  },
  {
   "cell_type": "code",
   "execution_count": 11,
   "metadata": {},
   "outputs": [],
   "source": [
    "# Compter les entités\n",
    "location = defaultdict(int)\n",
    "for ent in doc.ents:\n",
    "    if ent.label_ == \"LOC\" and len(ent.text) > 3:\n",
    "        location[ent.text] += 1"
   ]
  },
  {
   "cell_type": "code",
   "execution_count": 12,
   "metadata": {},
   "outputs": [
    {
     "name": "stdout",
     "output_type": "stream",
     "text": [
      "Bruxelles apparait 11 fois dans le corpus\n",
      "rue des Alexiens apparait 9 fois dans le corpus\n",
      "BRUXELLES apparait 5 fois dans le corpus\n",
      "Charleroi apparait 4 fois dans le corpus\n",
      "Russie apparait 3 fois dans le corpus\n",
      "Alexiens apparait 3 fois dans le corpus\n",
      "Gand apparait 3 fois dans le corpus\n",
      "Paris apparait 3 fois dans le corpus\n",
      "rue de Belgrade apparait 3 fois dans le corpus\n",
      "Rome apparait 3 fois dans le corpus\n",
      "Liège apparait 3 fois dans le corpus\n",
      "La Hestre apparait 3 fois dans le corpus\n",
      "Bouffioulx apparait 2 fois dans le corpus\n",
      "Verviers apparait 2 fois dans le corpus\n",
      "Fédération apparait 2 fois dans le corpus\n",
      "Gilly apparait 2 fois dans le corpus\n",
      "place Sainte-Croix apparait 2 fois dans le corpus\n",
      "Angleterre apparait 2 fois dans le corpus\n",
      "BRUXELLES TOMES I et apparait 2 fois dans le corpus\n",
      "II Chaque Tome apparait 2 fois dans le corpus\n",
      "Voorwaarts apparait 2 fois dans le corpus\n",
      "Hambourg apparait 2 fois dans le corpus\n",
      "Fédération du Centre apparait 2 fois dans le corpus\n",
      "MONMOUSSEAU apparait 2 fois dans le corpus\n",
      "59 BRUXELLES apparait 2 fois dans le corpus\n",
      "Lodelinsart apparait 2 fois dans le corpus\n",
      "Lachaussée apparait 2 fois dans le corpus\n",
      "Canada apparait 2 fois dans le corpus\n",
      "Anvers apparait 2 fois dans le corpus\n",
      "Blancs-Becs apparait 2 fois dans le corpus\n",
      "Jumet apparait 2 fois dans le corpus\n",
      "Namur apparait 2 fois dans le corpus\n",
      "Binche apparait 2 fois dans le corpus\n",
      "Hainaut apparait 2 fois dans le corpus\n",
      "Victoria apparait 2 fois dans le corpus\n",
      "Etats-Unis apparait 2 fois dans le corpus\n",
      "Fond apparait 2 fois dans le corpus\n",
      "grosçesse apparait 1 fois dans le corpus\n",
      "mercure apparait 1 fois dans le corpus\n",
      "e.t 1% nicotine apparait 1 fois dans le corpus\n",
      "Aombreux apparait 1 fois dans le corpus\n",
      "itégoa-ies apparait 1 fois dans le corpus\n",
      "^oug de l'homme ct conquérir apparait 1 fois dans le corpus\n",
      "libejrté apparait 1 fois dans le corpus\n",
      "uu al-onneinent apparait 1 fois dans le corpus\n",
      "Paysans apparait 1 fois dans le corpus\n",
      "rue dM apparait 1 fois dans le corpus\n",
      "avenue du Boulevard apparait 1 fois dans le corpus\n",
      "St-Josse-ten-Noode apparait 1 fois dans le corpus\n",
      "Dunkerque apparait 1 fois dans le corpus\n"
     ]
    }
   ],
   "source": [
    "\n",
    "sorted_location= sorted(location.items(), key=lambda kv: kv[1], reverse=True)\n",
    "\n",
    "for location, freq in sorted_location[:50]:\n",
    "    print(f\"{location} apparait {freq} fois dans le corpus\")"
   ]
  },
  {
   "cell_type": "markdown",
   "metadata": {},
   "source": [
    "## Reconnaissance des Organisations"
   ]
  },
  {
   "cell_type": "code",
   "execution_count": 13,
   "metadata": {},
   "outputs": [],
   "source": [
    "# Compter les entités\n",
    "organisation = defaultdict(int)\n",
    "for ent in doc.ents:\n",
    "    if ent.label_ == \"ORG\" and len(ent.text) > 3:\n",
    "        organisation[ent.text] += 1"
   ]
  },
  {
   "cell_type": "code",
   "execution_count": 14,
   "metadata": {},
   "outputs": [
    {
     "name": "stdout",
     "output_type": "stream",
     "text": [
      "Préface apparait 4 fois dans le corpus\n",
      "Chambre apparait 3 fois dans le corpus\n",
      "BETSY apparait 2 fois dans le corpus\n",
      "Histoire Socialiste apparait 2 fois dans le corpus\n",
      "Ordre du Jour apparait 2 fois dans le corpus\n",
      "CAPITAL apparait 2 fois dans le corpus\n",
      "KARL MARX VIENT DE PARAITRE apparait 2 fois dans le corpus\n",
      "Inspecteur d'Académie apparait 2 fois dans le corpus\n",
      "PARC apparait 2 fois dans le corpus\n",
      "GALERIES apparait 2 fois dans le corpus\n",
      "Maison Syndicale apparait 2 fois dans le corpus\n",
      "LAHAUT apparait 2 fois dans le corpus\n",
      "Comité fédéral apparait 2 fois dans le corpus\n",
      "Sénat apparait 2 fois dans le corpus\n",
      "Mineurs apparait 2 fois dans le corpus\n",
      "yersion de la matrice apparait 1 fois dans le corpus\n",
      "eardeuses apparait 1 fois dans le corpus\n",
      "lgs poussières apparait 1 fois dans le corpus\n",
      "zion apparait 1 fois dans le corpus\n",
      "ACHETEZ apparait 1 fois dans le corpus\n",
      "LENINE apparait 1 fois dans le corpus\n",
      "Jeu- apparait 1 fois dans le corpus\n",
      "GORKI apparait 1 fois dans le corpus\n",
      "Renette- Jiamps apparait 1 fois dans le corpus\n",
      "GAND apparait 1 fois dans le corpus\n",
      "BIJOUTIER apparait 1 fois dans le corpus\n",
      "ATTAQUEV apparait 1 fois dans le corpus\n",
      "MàmboUrg apparait 1 fois dans le corpus\n",
      "Posc.iva apparait 1 fois dans le corpus\n",
      "Ministère apparait 1 fois dans le corpus\n",
      "Affaires étrangères de Russie apparait 1 fois dans le corpus\n",
      "FEDERATION apparait 1 fois dans le corpus\n",
      "Membres' de la Fédération apparait 1 fois dans le corpus\n",
      "FEDERATION DU CENTRE apparait 1 fois dans le corpus\n",
      "dimariebe 3 apparait 1 fois dans le corpus\n",
      "Comité apparait 1 fois dans le corpus\n",
      "Carnières ' Assemblée dii apparait 1 fois dans le corpus\n",
      "VAN OVERSTRAETEN apparait 1 fois dans le corpus\n",
      "Labour Part y. CAMARADES apparait 1 fois dans le corpus\n",
      "Cercle Mutica| apparait 1 fois dans le corpus\n",
      "Tf 1 apparait 1 fois dans le corpus\n",
      "soni apparait 1 fois dans le corpus\n",
      "Parti Communiste apparait 1 fois dans le corpus\n",
      "LES SPORTS Fédération socialiste rinocatioii physique apparait 1 fois dans le corpus\n",
      "Fléron U. S. C— P. M. B. apparait 1 fois dans le corpus\n",
      "Avenir do Jette apparait 1 fois dans le corpus\n",
      "Avenir apparait 1 fois dans le corpus\n",
      "Jfr- apparait 1 fois dans le corpus\n",
      "Nalinn.ee apparait 1 fois dans le corpus\n",
      "Liégc-'J' apparait 1 fois dans le corpus\n"
     ]
    }
   ],
   "source": [
    "\n",
    "sorted_organisation = sorted(organisation.items(), key=lambda kv: kv[1], reverse=True)\n",
    "\n",
    "for organisation, freq in sorted_organisation[:50]:\n",
    "    print(f\"{organisation} apparait {freq} fois dans le corpus\")"
   ]
  }
 ],
 "metadata": {
  "kernelspec": {
   "display_name": "Python 3.10.5 ('tac_venv': venv)",
   "language": "python",
   "name": "python3"
  },
  "language_info": {
   "codemirror_mode": {
    "name": "ipython",
    "version": 3
   },
   "file_extension": ".py",
   "mimetype": "text/x-python",
   "name": "python",
   "nbconvert_exporter": "python",
   "pygments_lexer": "ipython3",
   "version": "3.9.0"
  },
  "vscode": {
   "interpreter": {
    "hash": "b1932ab1d169b4769d1550e799423b6477588e745f266d79d9004c136c81607e"
   }
  }
 },
 "nbformat": 4,
 "nbformat_minor": 4
}
