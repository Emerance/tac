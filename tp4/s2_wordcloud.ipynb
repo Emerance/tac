{
 "cells": [
  {
   "cell_type": "markdown",
   "metadata": {},
   "source": [
    "# Nuages de mots"
   ]
  },
  {
   "cell_type": "markdown",
   "metadata": {},
   "source": [
    "## Imports et stopwords"
   ]
  },
  {
   "cell_type": "code",
   "execution_count": null,
   "metadata": {},
   "outputs": [],
   "source": [
    "from collections import Counter\n",
    "from wordcloud import WordCloud\n",
    "import os\n",
    "import nltk\n",
    "nltk.download('stopwords')\n",
    "from nltk.corpus import stopwords\n",
    "from IPython.display import Image"
   ]
  },
  {
   "cell_type": "code",
   "execution_count": null,
   "metadata": {},
   "outputs": [],
   "source": [
    "# Stopwords (Idem que dans s1)\n",
    "sw = stopwords.words(\"french\")\n",
    "sw += [\"les\", \"plus\", \"cette\", \"fait\", \"faire\", \"être\", \"deux\", \"comme\", \"dont\", \"tout\", \"ils\", \"bien\", \"sans\", \"peut\",\n",
    "       \"tous\", \"après\", \"ainsi\", \"donc\", \"cet\", \"sous\", \"celle\", \"entre\", \"encore\", \"toutes\", \"toute\", \"pendant\", \"moins\",\n",
    "       \"dire\", \"cela\", \"non\", \"faut\", \"trois\", \"aussi\", \"dit\", \"avoir\", \"doit\", \"contre\", \"depuis\", \"autres\", \"van\", \"het\",\n",
    "       \"autre\", \"jusqu\", \"ville\", \"rossel\", \"dem\", \"à\", \"alors\", \"bon\", \"auquel\", \"aucun\", \"avec\", \"ça\", \"car\", \"ceux\", \n",
    "       \"certes\", \"ci\", \"etant\", \"façon\", \"hein\", \"hélas\", \"fois\", \"hors\", \"juste\", \"mais\", \"malgré\", \"néanmoins\", \"peu\",\n",
    "       \"on\", \"où\", \"ouf\", \"allo\", \"oust\", \"outre\", \"oh\", \"pff\", \"plein\", \"pif\", \"plouf\", \"quelque\", \"sans\", \"sapristi\", \n",
    "       \"rien\", \"sa\", \"seulement\", \"si\", \"sur\", \"voici\", \"tél\", \"telle\", \"très\", \"toujours\", \"tenant\", \"tandis\", \"tac\", \n",
    "       \"toc\", \"toi\", \"vif\", \"prés\", \"fort\", \"celui\", \"conf\", \"jamais\", \"bonjour\", \"ans\", \"nouvelle\", \"villa\", \"etc\",\n",
    "       \"gar\", \"partie\", \"celui\", \"bat\", \"déjà\", \"plusieurs\", \"mod\", \"lux\", \"dès\", \"mal\", \"marché\", \"quelques\", \"fin\",\n",
    "       \"culs\", \"match\", \"jour\", \"petit\", \"homme\", \"femme\", 'jour', \"ordre\", \"fille\", \"trav\", \"bonne\", \"enfin\", \"début\",\n",
    "       \"âge\", \"faç\", \"appart\", \"vis\", \"mise\", \"main\", \"app\", \"prix\", \"point\", \"réf\", \"chez\", \"rue\", \"avant\", \"hui\", \"hui\",\n",
    "       \"soir\", \"belle\", \"midi\", \"maison\", \"personne\", \"effet\", \"côté\", 'effet', \"tête\", \"matin\", \"vie\", 'mille', \"millions\",\n",
    "       \"égalemet\", \"dernier\", \"puis\", \"trop\", \"cas\", \"avril\", \"assez\", \"public\", \"vie\", \"mort\", \"sujet\", \"heure\", \"heures\",\n",
    "       \"quatre\",\"font\", \"seul\", \"près\", \"souvent\", \"hier\", \"service\", \"mme\", \"mr\", \"oui\", \"non\", \"monde\", \"part\", \"dernière\",\n",
    "       \"petite\", \"ensuite\", \"ici\", \"vient\", \"donner\", \"lundi\", \"mardi\", \"mercreid\", \"jeudi\", \"vendredi\", \"samedi\", \"dimanche\",\n",
    "       \"chambre\", \"quand\", \"quant\", \"nom\", \"nouveau\", \"fit\", \"cours\", \"mêmes\", \"ouvriers\", \"vue\", \"vers\", \"corps\", \"prendre\", \n",
    "       \"porte\", \"aujourd\", \"gens\", \"première\", \"cent\", \"terre\", \"janvier\", \"séance\", \"certains\", \"vente\", \"succès\", \"comment\", \n",
    "       \"coup\", \"mot\", \"beau\", \"quo\", \"prochain\", \"suite\", \"eau\", \"pourquoi\", \"anvers\", \"chef\", \"mieux\", \"reste\", \"nord\", \"sud\",\n",
    "       \"bureau\", \"but\", \"voir\", \"art\", \"certain\", \"dix\", \"pourrait\", \"temps\", \"angleterre\", \"londre\", \"moment\", \"trouve\", \"chose\",\n",
    "       \"elles\", \"nombre\", \"question\", \"laquelle\", \"nouvelles\", \"leurs\", \"jours\", \"francs\", \"jeune\", \"guerre\", \"peuple\", \"amis\", \"août\",\n",
    "       \"prince\", \"pierre\", \"année\", \"donne\", \"jeunes\", \"février\", \"choses\", \"raison\", \"tant\", \"intérêt\", \"cœur\", \"œuvre\", \"jean\", \n",
    "       \"saint\", \"divers\", \"moyen\", \"autant\", \"conditions\", \"décembre\", \"force\", \"grands\", \"publique\", \"centimes\", \"monsieur\", \n",
    "       \"madame\", \"sens\", \"général\", \"rendre\", \"aucune\", \"amour\", \"peuvent\", \"lieu\", \"raison\", \"faits\", \"abord\", \"veut\", \"sait\", \"cause\",\n",
    "       \"air\", \"ailleurs\", \"également\", \"mars\", \"ancien\", \"beaucoup\", \"longtemps\", \"six\", \"semble\", \"classe\", \"metttre\", \"mis\", \"yeux\",\n",
    "       \"celles\", \"livre\", \", cependant\", \"bas\", \"questions\", \"donné\", \"doute\", \"mois\", \"actuellement\", \"cinq\", \"doivent\", \"haut\", \"nuit\", \n",
    "       \"exemple\", \"possible\", \"vrai\", \"faux\", \"loin\", \"reçu\", \"devant\", \"quelle\", \"grâce\", \"savoir\", \"ment\", \"mlle\", \"feu\", \"mai\", \"fils\",\n",
    "       \"tour\", \"idée\", \"novembre\", \"presque\", \"adresser\", \"mesure\", \"générale\", \"mettre\", \"fer\", \"petits\", \"membres\", \"quel\", \"vieux\", \"mercredi\",\n",
    "       \"lorsqu\", \"seule\", \"personnel\", \"suivant\", \"septembre\", \"discussion\", \"titre\", \"esprit\", \"tel\", \"gand\", \"grand\", \"certaines\", \"avenir\", \"paul\", \n",
    "       \"parler\", \"occasion\", \"personnes\", \"faite\", \"partout\", \"huit\", \"écrit\", \"voie\", \"troupes\", \"grandes\", \"juin\", \"passé\", \"lea\", \"décidé\", \"place\",\n",
    "       \"cour\", \"concours\", \"lequel\", \"aller\", \"palais\", \"chemins\", \"chemin\", \"quoi\", \"œuvres\", \"salle\", \"maintenant\", \"compte\", \"dos\", \"octobre\", \"nommé\",\n",
    "       \"chacun\", \"uno\", \"con\", \"fond\", \"rendu\", \"grande\", \"surtout\", \"pouvait\", \"demain\", \"annonce\", \"lors\", \"devait\", \"port\", \"parmi\", \"présence\", \n",
    "       \"agit\", \"afin\", \"long\", \"train\", \"somme\", \"nouveaux\", \"courant\", \"trouver\", \"correspondant\", \"baron\", \"semaine\", \"ligne\", \"haute\", \"simple\"\n",
    "\n",
    "       ]\n",
    "sw = set(sw)\n"
   ]
  },
  {
   "cell_type": "markdown",
   "metadata": {},
   "source": [
    "## Créer un fichier contenant le texte de tous les journaux"
   ]
  },
  {
   "cell_type": "code",
   "execution_count": null,
   "metadata": {},
   "outputs": [],
   "source": [
    "# Lister les fichiers du corpus\n",
    "data_path = '../data'\n",
    "txt_path = '../data/txt'\n",
    "txts = [f for f in os.listdir(txt_path) if os.path.isfile(os.path.join(txt_path, f))]\n",
    "txts"
   ]
  },
  {
   "cell_type": "code",
   "execution_count": null,
   "metadata": {
    "tags": []
   },
   "outputs": [],
   "source": [
    "# Stocker le contenu de ces fichiers dans une liste\n",
    "content_list = []\n",
    "for txt in txts:\n",
    "    with open(os.path.join(txt_path, txt), 'r', encoding='utf-8') as f:\n",
    "        content_list.append(f.read())"
   ]
  },
  {
   "cell_type": "code",
   "execution_count": null,
   "metadata": {},
   "outputs": [],
   "source": [
    "# Compter le nombre d'éléments (=fichiers) dans la liste\n",
    "len(content_list)"
   ]
  },
  {
   "cell_type": "code",
   "execution_count": null,
   "metadata": {},
   "outputs": [],
   "source": [
    "# Imprimer les 200 premiers caractères du contenu du premier fichier\n",
    "content_list[0][0:200]"
   ]
  },
  {
   "cell_type": "code",
   "execution_count": null,
   "metadata": {},
   "outputs": [],
   "source": [
    "# Ecrire tout le contenu dans un fichier temporaire\n",
    "temp_path = '../data/tmp'\n",
    "text = 'text'\n",
    "if not os.path.exists(temp_path):\n",
    "    os.mkdir(temp_path)\n",
    "with open(os.path.join(temp_path, f'{text}.txt'), 'w', encoding='utf-8') as f:\n",
    "    f.write(' '.join(content_list))"
   ]
  },
  {
   "cell_type": "code",
   "execution_count": null,
   "metadata": {},
   "outputs": [],
   "source": [
    "# Imprimer le contenu du fichier et constater les \"déchets\"\n",
    "with open(os.path.join(temp_path, f'{text}.txt'), 'r', encoding='utf-8') as f:\n",
    "    before = f.read()\n",
    "\n",
    "before[:500]"
   ]
  },
  {
   "cell_type": "markdown",
   "metadata": {},
   "source": [
    "## Nettoyer le fichier à l'aide d'une fonction de nettoyage"
   ]
  },
  {
   "cell_type": "markdown",
   "metadata": {},
   "source": [
    "### Créer la fonction de nettoyage (à adapter)"
   ]
  },
  {
   "cell_type": "code",
   "execution_count": null,
   "metadata": {},
   "outputs": [],
   "source": [
    "def clean_text(text, folder=None):\n",
    "    if folder is None:\n",
    "        input_path = f\"{text}.txt\"\n",
    "        output_path = f\"{text}_clean.txt\"\n",
    "    else:\n",
    "        input_path = f\"{folder}/{text}.txt\"\n",
    "        output_path = f\"{folder}/{text}_clean.txt\"\n",
    "    output = open(output_path, \"w\", encoding='utf-8')\n",
    "    with open(input_path, 'r', encoding='utf-8') as f:\n",
    "        text = f.read()\n",
    "        words = nltk.wordpunct_tokenize(text)\n",
    "        kept = [w.upper() for w in words if len(w) > 2 and w.isalpha() and w.lower() not in sw]\n",
    "        kept_string = \" \".join(kept)\n",
    "        output.write(kept_string)\n",
    "    return f'Output has been written in {output_path}!'"
   ]
  },
  {
   "cell_type": "markdown",
   "metadata": {},
   "source": [
    "### Appliquer la fonction sur le fichier complet de l'année"
   ]
  },
  {
   "cell_type": "code",
   "execution_count": null,
   "metadata": {
    "tags": []
   },
   "outputs": [],
   "source": [
    "clean_text(text, folder=temp_path)"
   ]
  },
  {
   "cell_type": "code",
   "execution_count": null,
   "metadata": {},
   "outputs": [],
   "source": [
    "# Vérifier le résultat\n",
    "with open(os.path.join(temp_path, f'{text}_clean.txt'), 'r', encoding='utf-8') as f:\n",
    "    after = f.read()\n",
    "\n",
    "after[:500]"
   ]
  },
  {
   "cell_type": "markdown",
   "metadata": {},
   "source": [
    "## Nuage de mots"
   ]
  },
  {
   "cell_type": "markdown",
   "metadata": {},
   "source": [
    "### Afficher les termes les plus fréquents\n"
   ]
  },
  {
   "cell_type": "code",
   "execution_count": null,
   "metadata": {},
   "outputs": [],
   "source": [
    "frequencies = Counter(after.split())\n",
    "print(frequencies.most_common(10))"
   ]
  },
  {
   "cell_type": "markdown",
   "metadata": {},
   "source": [
    "### Créer, stocker et afficher le nuage de mots"
   ]
  },
  {
   "cell_type": "code",
   "execution_count": null,
   "metadata": {},
   "outputs": [],
   "source": [
    "cloud = WordCloud(width=2000, height=1000, background_color='white').generate_from_frequencies(frequencies)\n",
    "cloud.to_file(os.path.join(temp_path, f\"{text}.png\"))\n",
    "Image(filename=os.path.join(temp_path, f\"{text}.png\"))"
   ]
  }
 ],
 "metadata": {
  "kernelspec": {
   "display_name": "Python 3.10.5 ('tac_venv': venv)",
   "language": "python",
   "name": "python3"
  },
  "language_info": {
   "codemirror_mode": {
    "name": "ipython",
    "version": 3
   },
   "file_extension": ".py",
   "mimetype": "text/x-python",
   "name": "python",
   "nbconvert_exporter": "python",
   "pygments_lexer": "ipython3",
   "version": "3.9.0"
  },
  "vscode": {
   "interpreter": {
    "hash": "b1932ab1d169b4769d1550e799423b6477588e745f266d79d9004c136c81607e"
   }
  }
 },
 "nbformat": 4,
 "nbformat_minor": 4
}
