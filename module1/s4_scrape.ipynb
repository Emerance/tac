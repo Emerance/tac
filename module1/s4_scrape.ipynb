{
 "cells": [
  {
   "cell_type": "markdown",
   "metadata": {},
   "source": [
    "# Scraping: récupération de la page d'accueil du journal Le Soir\n",
    "\n",
    "Dans ce notebook, nous créons un robot qui va ouvrir la page d'accueil du site du journal [RTBF](https://www.lesoir.be/) et récupérer le titre de tous les articles du jour et les stocker dans un fichier csv."
   ]
  },
  {
   "cell_type": "markdown",
   "metadata": {},
   "source": [
    "## Imports"
   ]
  },
  {
   "cell_type": "code",
   "execution_count": 2,
   "metadata": {},
   "outputs": [],
   "source": [
    "import os\n",
    "import re\n",
    "import time\n",
    "import requests\n",
    "from bs4 import BeautifulSoup\n",
    "import pandas as pd"
   ]
  },
  {
   "cell_type": "markdown",
   "metadata": {},
   "source": [
    "## Récupération de tous les articles de la page d'accueil\n",
    "\n"
   ]
  },
  {
   "cell_type": "code",
   "execution_count": 3,
   "metadata": {},
   "outputs": [],
   "source": [
    "headers = {'User-Agent': 'Mozilla/5.0 (Macintosh; Intel Mac OS X 10_10_1) AppleWebKit/537.36 (KHTML, like Gecko) Chrome/39.0.2171.95 Safari/537.36'}\n",
    "\n",
    "articles = []\n",
    "\n",
    "root_url = f\"https://www.rtbf.be\"\n",
    "response = requests.get(root_url, headers=headers)\n",
    "soup = BeautifulSoup(response.text, 'html.parser')\n",
    "for link in soup.find_all(\"a\", {\"class\":\"stretched-link outline-none\"}):\n",
    "    title = link.text.strip()\n",
    "    url = root_url + link.get('href')\n",
    "    articles.append([url, title])"
   ]
  },
  {
   "cell_type": "code",
   "execution_count": 4,
   "metadata": {},
   "outputs": [
    {
     "data": {
      "text/plain": [
       "106"
      ]
     },
     "execution_count": 4,
     "metadata": {},
     "output_type": "execute_result"
    }
   ],
   "source": [
    "# Affichage du nombre d'articles récupérés\n",
    "len(articles)"
   ]
  },
  {
   "cell_type": "code",
   "execution_count": null,
   "metadata": {},
   "outputs": [],
   "source": [
    "# Affichage des 10 premières entrées\n",
    "articles[:10]"
   ]
  },
  {
   "cell_type": "markdown",
   "metadata": {},
   "source": [
    "## Création d'un dataframe avec les liens et les titres des articles\n"
   ]
  },
  {
   "cell_type": "code",
   "execution_count": 5,
   "metadata": {},
   "outputs": [
    {
     "data": {
      "text/html": [
       "<div>\n",
       "<style scoped>\n",
       "    .dataframe tbody tr th:only-of-type {\n",
       "        vertical-align: middle;\n",
       "    }\n",
       "\n",
       "    .dataframe tbody tr th {\n",
       "        vertical-align: top;\n",
       "    }\n",
       "\n",
       "    .dataframe thead th {\n",
       "        text-align: right;\n",
       "    }\n",
       "</style>\n",
       "<table border=\"1\" class=\"dataframe\">\n",
       "  <thead>\n",
       "    <tr style=\"text-align: right;\">\n",
       "      <th></th>\n",
       "      <th>link</th>\n",
       "      <th>title</th>\n",
       "    </tr>\n",
       "  </thead>\n",
       "  <tbody>\n",
       "    <tr>\n",
       "      <th>0</th>\n",
       "      <td>https://www.rtbf.be/article/notre-politique-a-...</td>\n",
       "      <td>\"Notre politique a permis d’éviter le bain de ...</td>\n",
       "    </tr>\n",
       "    <tr>\n",
       "      <th>1</th>\n",
       "      <td>https://www.rtbf.be/article/romelu-lukaku-adre...</td>\n",
       "      <td>Romelu Lukaku adresse un message à Eden Hazard...</td>\n",
       "    </tr>\n",
       "    <tr>\n",
       "      <th>2</th>\n",
       "      <td>https://www.rtbf.be/article/direct-guerre-isra...</td>\n",
       "      <td>Direct – Guerre Israël-Gaza : \"Le blocus de Ga...</td>\n",
       "    </tr>\n",
       "    <tr>\n",
       "      <th>3</th>\n",
       "      <td>https://www.rtbf.be/article/guerre-israel-gaza...</td>\n",
       "      <td>Guerre Israël-Gaza : quels termes et quelles i...</td>\n",
       "    </tr>\n",
       "    <tr>\n",
       "      <th>4</th>\n",
       "      <td>https://www.rtbf.be/article/budget-federal-lop...</td>\n",
       "      <td>Budget fédéral : l’opposition flingue le bilan...</td>\n",
       "    </tr>\n",
       "    <tr>\n",
       "      <th>...</th>\n",
       "      <td>...</td>\n",
       "      <td>...</td>\n",
       "    </tr>\n",
       "    <tr>\n",
       "      <th>101</th>\n",
       "      <td>https://www.rtbf.behttps://auvio.rtbf.be/media...</td>\n",
       "      <td>Ici tout commence</td>\n",
       "    </tr>\n",
       "    <tr>\n",
       "      <th>102</th>\n",
       "      <td>https://www.rtbf.behttps://auvio.rtbf.be/media...</td>\n",
       "      <td>New Amsterdam S03</td>\n",
       "    </tr>\n",
       "    <tr>\n",
       "      <th>103</th>\n",
       "      <td>https://www.rtbf.behttps://auvio.rtbf.be/media...</td>\n",
       "      <td>OPJ Pacifique Sud</td>\n",
       "    </tr>\n",
       "    <tr>\n",
       "      <th>104</th>\n",
       "      <td>https://www.rtbf.behttps://auvio.rtbf.be/media...</td>\n",
       "      <td>Tu ne tueras point</td>\n",
       "    </tr>\n",
       "    <tr>\n",
       "      <th>105</th>\n",
       "      <td>https://www.rtbf.behttps://auvio.rtbf.be/media...</td>\n",
       "      <td>Les invisibles S03</td>\n",
       "    </tr>\n",
       "  </tbody>\n",
       "</table>\n",
       "<p>106 rows × 2 columns</p>\n",
       "</div>"
      ],
      "text/plain": [
       "                                                  link  \\\n",
       "0    https://www.rtbf.be/article/notre-politique-a-...   \n",
       "1    https://www.rtbf.be/article/romelu-lukaku-adre...   \n",
       "2    https://www.rtbf.be/article/direct-guerre-isra...   \n",
       "3    https://www.rtbf.be/article/guerre-israel-gaza...   \n",
       "4    https://www.rtbf.be/article/budget-federal-lop...   \n",
       "..                                                 ...   \n",
       "101  https://www.rtbf.behttps://auvio.rtbf.be/media...   \n",
       "102  https://www.rtbf.behttps://auvio.rtbf.be/media...   \n",
       "103  https://www.rtbf.behttps://auvio.rtbf.be/media...   \n",
       "104  https://www.rtbf.behttps://auvio.rtbf.be/media...   \n",
       "105  https://www.rtbf.behttps://auvio.rtbf.be/media...   \n",
       "\n",
       "                                                 title  \n",
       "0    \"Notre politique a permis d’éviter le bain de ...  \n",
       "1    Romelu Lukaku adresse un message à Eden Hazard...  \n",
       "2    Direct – Guerre Israël-Gaza : \"Le blocus de Ga...  \n",
       "3    Guerre Israël-Gaza : quels termes et quelles i...  \n",
       "4    Budget fédéral : l’opposition flingue le bilan...  \n",
       "..                                                 ...  \n",
       "101                                  Ici tout commence  \n",
       "102                                  New Amsterdam S03  \n",
       "103                                  OPJ Pacifique Sud  \n",
       "104                                 Tu ne tueras point  \n",
       "105                                 Les invisibles S03  \n",
       "\n",
       "[106 rows x 2 columns]"
      ]
     },
     "execution_count": 5,
     "metadata": {},
     "output_type": "execute_result"
    }
   ],
   "source": [
    "df = pd.DataFrame(articles, columns=['link', 'title'])\n",
    "df"
   ]
  },
  {
   "cell_type": "code",
   "execution_count": 6,
   "metadata": {},
   "outputs": [],
   "source": [
    "# Sauvegarde du dataframe dans un fichier csv\n",
    "df.to_csv(f\"../data/rtbf_{time.strftime('%Y%m%d')}.csv\", index=False)"
   ]
  },
  {
   "cell_type": "markdown",
   "metadata": {},
   "source": [
    "## Téléchargement d'un article et affichage du texte"
   ]
  },
  {
   "cell_type": "code",
   "execution_count": 7,
   "metadata": {},
   "outputs": [
    {
     "name": "stdout",
     "output_type": "stream",
     "text": [
      "\"Notre politique a permis d’éviter le bain de sang social\" : le Premier ministre présente son budget et dresse le bilan de son gouvernement\n",
      "==================================\n",
      "Le Premier ministre, Alexandre De Croo, a présenté sa déclaration de politique générale, ce mardi après-midi, dès 14h15, à la Chambre. Devant les députés, il a dressé les grandes lignes de la politique que le gouvernement fédéral va mener en 2024, dans sa dernière ligne droite avant les élections législatives de juin prochain.\n",
      "Ce week-end et ce lundi, la coalition Vivaldi a bouclé ses discussions budgétaires. Parmi les mesures les plus commentées aujourd’hui, figurent la taxation des banques et l’extension du régime des flexi-jobs.\n",
      "Lors de son exposé, le Premier ministre a aussi dressé le bilan du travail accompli par son gouvernement. \" Notre politique a permis de protéger le portefeuille des Belges. Notre politique a permis d’éviter le bain de sang social \", a ainsi déclaré Alexander De Croo, résumant les décisions que la Vivaldi a prises dans les contextes de crise du Covid et de crise énergétique.\n",
      "Avant de présenter sa déclaration de politique générale, le Premier ministre a présenté ses condoléances \" aux familles des victimes de ce qui s’est passé en Israël \". A propos des événements, \" tout cela témoigne d’une barbarie inacceptable \", a estimé Alexander De Croo. \" Cette extrême violence, aveugle et lâche, ferme brusquement la voie à toute perspective de paix et de sécurité dans la région \", a-t-il ajouté, estimant que \" la violence ne sera jamais la solution \".\n",
      "Alors qu’il vient de boucler le budget 2024 avec son gouvernement, le Premier ministre a d’abord remis cet exercice budgétaire en perspective. Les trois années précédentes n’ont pas été un long fleuve tranquille. \"Il y a trois ans, en pleine crise sanitaire, vous avez accordé votre confiance à une équipe\", a-t-il rappelé aux députés. Avec la pandémie, les victimes, la société paralysée, les \"très nombreux emplois dans la balance\", \"les plus pessimistes voyaient déjà notre pays sombrer dans la pauvreté. Il n’en fut rien\", se félicite aujourd’hui Alexander De Croo.\n",
      "Aujourd’hui, selon le Premier ministre, le pays est ressorti \"plus fort\", \"nos finances publiques s’améliorent\" pour prendre la direction des critères de Maastricht. \" Nous tenons nos promesses \", estime le Premier.\n",
      "Au rayon \"promesses tenues\", Alexander De Croo met en avant le relèvement de la pension minimum et les aides lors de la crise énergétique pour que \" personne ne soit abandonné \". Dans les promesses tenues, le Premier ministre range aussi la prolongation de deux réacteurs nucléaires, des mesures en matière de sauvegarde de la compétitivité des entreprises ou encore l’exécution des peines de prison.\n",
      "Alexandre De Croo met en avant des mesures du Budget 2024 qui, selon lui, sont le signe d’un investissement dans le futur : la baisse de la TVA dans la construction, la TVA réduite sur les pompes à chaleur, \"un soutien aux jeunes ménages qui construisent leur première maison\".\n",
      "Autre investissement dans l’avenir, l’instauration d’un service citoyen, \" pour celles et ceux qui cherchent un emploi ou une formation \".\n",
      "Parmi les mesures mises en avant par la Vivaldi figure l’extension des flexi-jobs. \" Des milliers d’emplois cherchent des gens \", résume Alexander De Croo pour justifier la décision d’étendre la possibilité de recourir aux flexi-jobs dans des secteurs tels que l’enseignement, l’accueil de la petite enfance, l’agriculture, l’alimentation, le transport etc. \" Aujourd’hui, il y a déjà plus de 100.000 travailleurs dans les flexi-jobs  \", souligne le Premier ministre. Pour Alexandre De Croo, depuis leur introduction, les flexi-jobs \" sont l’un des plus grands succès \" et de mettre en avant ces \" pensionnés \" qui grâce à ces flexi-jobs \"perçoivent en net exactement ce qu’ils perçoivent en brut\".\n",
      "Au passage et au-delà des flexi-jobs, le Premier ministre souligne les quasi 300.000 emplois qui, selon le Bureau du Plan, auront été créés au cours de la législature.\n",
      "Alexander De Croo le reconnaît, les trois ans passés à gouverner \" en temps de crise \" n’ont pas permis de résoudre \" tous les problèmes structurels de la politique budgétaire belge\".\n",
      "Assainir les finances \" demande du temps \", rappelle le Premier. \" Protéger nos citoyens et nos entreprises nous a coûté plus de 20 milliards \", précise-t-il. Mais, ajoute-t-il, \" nous avons fait le choix de ne laisser personne de côté, il n’y avait pas d’autre option \".\n",
      "Et de rappeler entre les lignes les mesures prises pour aider les entreprises à ne pas licencier, pour aider les ménages à se chauffer. \" Malgré toutes les crises, la prospérité des Belges a progressé de 3,8% depuis l’arrivée de ce gouvernement \", se félicite Alexander De Croo.\n",
      "\" Nous avons fait mieux que nos voisins allemands et français \", ajoute-t-il. \" Notre politique a permis de protéger le portefeuille des Belges. Notre politique a permis d’éviter le bain de sang social \", s’enorgueillit le Premier ministre. Il ajoute que des efforts seront encore faits, comme relever le salaire minimum ou investir dans la santé mentale.\n",
      "La crise de l’Asile qui agite la majorité ces dernières semaines a aussi été abordée par le Premier ministre. \" Avec 34.000 places, la Belgique se heurte à ses limites \", a-t-il résumé, mettant en avant le financement de \" 1500 lits dans les centres d’accueil pour sans-abri bruxellois, pour les personnes qui ne trouvent pas de place dans le réseau d’accueil \".\n",
      "\" L’hiver est à nos portes et nous savons ce qui nous attend \", a déclaré le Premier ministre, ajoutant que \" dans les casernes, les bâtiments des chemins de fer ou les foyers vides, nous allons encore créer des places supplémentaires \".\n",
      "Toutefois, pour le Premier, ces places supplémentaires \" n’apporteront pas à elles seules la solution \". Alexander De Croo plaide pour \" des règles efficaces \" sur lesquelles les pays de l’Union européenne \" doivent s’accorder \". A ce sujet, la Belgique compte \" mettre en œuvre le nouveau pacte européen sur la migration \" lorsqu’elle assura la présidence de l’Union européenne, à partir de janvier prochain, a précisé Alexander De Croo.\n",
      "Le Premier ministre a aussi mis en avant l’idée de partenariats entre l’Europe et l’Afrique \" pour inciter les jeunes à poursuivre le rêve africain plutôt que le rêve européen \".\n",
      "Dans sa déclaration de politique générale, le Premier ministre a rappelé les objectifs du gouvernement en matière de sécurité. Il est revenu sur les problèmes de sécurité dans la capitale, Bruxelles, notamment autour de la gare de Bruxelles-Midi. \" Nous devons chercher des solutions\", \"Notre capitale mérite que tous les niveaux de pouvoir travaillent ensemble \", a plaidé le Premier ministre.\n",
      "Alexander De Croo a aussi rappelé l’importance de lutter contre le trafic de drogue. \" Le narcoterrorisme est une menace pour la capitale et nous refusons de la laisser planer \", a-t-il déclaré.\n",
      "Plus de sécurité aussi en matière d’agressions sexuelles. L’accord sur le budget 2024 prévoit d’investir l’an prochain dans 13 centres spécialisés dans les soins aux personnes victimes de violences sexuelles.\n",
      "Enfin, Alexander De Croo a mis en garde contre les fake news. \"Si nous abandonnons notre démocratie à la désinformation et aux fake news, nous allons droit dans le mur\", faisant aussi allusion aux récentes attaques contre des écoles wallonnes après la décision de mettre en œuvre les cours d’Evras (Education à la vie relationnelle, affective et sexuelle) dans les écoles de la Fédération Wallonie-Bruxelles.\n",
      "Mercredi, à 14 heures, les députés discuteront en plénière de cette déclaration gouvernementale. Le gouvernement a demandé la confiance de la Chambre. Le vote de confiance interviendra, en principe, jeudi après-midi.\n",
      "Tous les sujets de l'article\n"
     ]
    }
   ],
   "source": [
    "# Récupération du premier lien du dataframe\n",
    "article_url = df.iloc[0][0]\n",
    "\n",
    "# Ouverture de la page\n",
    "response = requests.get(article_url, headers=headers)\n",
    "soup = BeautifulSoup(response.content, 'html.parser')\n",
    "# Parsing du contenu\n",
    "title = soup.find(\"h1\").get_text(separator=' ')\n",
    "\n",
    "paragraphs = []\n",
    "for paragraph in soup.find_all(\"p\", attrs={\"class\": None}):\n",
    "    paragraphs.append(paragraph.get_text(separator=' ').strip())\n",
    "\n",
    "content = \"\\n\".join(paragraphs)\n",
    "print(title)\n",
    "print(\"==================================\")\n",
    "print(content)"
   ]
  },
  {
   "cell_type": "markdown",
   "metadata": {},
   "source": [
    "### Nettoyage du texte à l'aide d'expressions régulières"
   ]
  },
  {
   "cell_type": "code",
   "execution_count": 8,
   "metadata": {},
   "outputs": [
    {
     "name": "stdout",
     "output_type": "stream",
     "text": [
      "Le Premier ministre, Alexandre De Croo, a présenté sa déclaration de politique générale, ce mardi après-midi, dès 14h15, à la Chambre. Devant les députés, il a dressé les grandes lignes de la politique que le gouvernement fédéral va mener en 2024, dans sa dernière ligne droite avant les élections législatives de juin prochain.\n",
      "Ce week-end et ce lundi, la coalition Vivaldi a bouclé ses discussions budgétaires. Parmi les mesures les plus commentées aujourd’hui, figurent la taxation des banques et l’extension du régime des flexi-jobs.\n",
      "Lors de son exposé, le Premier ministre a aussi dressé le bilan du travail accompli par son gouvernement. \" Notre politique a permis de protéger le portefeuille des Belges. Notre politique a permis d’éviter le bain de sang social \", a ainsi déclaré Alexander De Croo, résumant les décisions que la Vivaldi a prises dans les contextes de crise du Covid et de crise énergétique.\n",
      "Avant de présenter sa déclaration de politique générale, le Premier ministre a présenté ses condoléances \" aux familles des victimes de ce qui s’est passé en Israël \". A propos des événements, \" tout cela témoigne d’une barbarie inacceptable \", a estimé Alexander De Croo. \" Cette extrême violence, aveugle et lâche, ferme brusquement la voie à toute perspective de paix et de sécurité dans la région \", a-t-il ajouté, estimant que \" la violence ne sera jamais la solution \".\n",
      "Alors qu’il vient de boucler le budget 2024 avec son gouvernement, le Premier ministre a d’abord remis cet exercice budgétaire en perspective. Les trois années précédentes n’ont pas été un long fleuve tranquille. \"Il y a trois ans, en pleine crise sanitaire, vous avez accordé votre confiance à une équipe\", a-t-il rappelé aux députés. Avec la pandémie, les victimes, la société paralysée, les \"très nombreux emplois dans la balance\", \"les plus pessimistes voyaient déjà notre pays sombrer dans la pauvreté. Il n’en fut rien\", se félicite aujourd’hui Alexander De Croo.\n",
      "Aujourd’hui, selon le Premier ministre, le pays est ressorti \"plus fort\", \"nos finances publiques s’améliorent\" pour prendre la direction des critères de Maastricht. \" Nous tenons nos promesses \", estime le Premier.\n",
      "Au rayon \"promesses tenues\", Alexander De Croo met en avant le relèvement de la pension minimum et les aides lors de la crise énergétique pour que \" personne ne soit abandonné \". Dans les promesses tenues, le Premier ministre range aussi la prolongation de deux réacteurs nucléaires, des mesures en matière de sauvegarde de la compétitivité des entreprises ou encore l’exécution des peines de prison.\n",
      "Alexandre De Croo met en avant des mesures du Budget 2024 qui, selon lui, sont le signe d’un investissement dans le futur : la baisse de la TVA dans la construction, la TVA réduite sur les pompes à chaleur, \"un soutien aux jeunes ménages qui construisent leur première maison\".\n",
      "Autre investissement dans l’avenir, l’instauration d’un service citoyen, \" pour celles et ceux qui cherchent un emploi ou une formation \".\n",
      "Parmi les mesures mises en avant par la Vivaldi figure l’extension des flexi-jobs. \" Des milliers d’emplois cherchent des gens \", résume Alexander De Croo pour justifier la décision d’étendre la possibilité de recourir aux flexi-jobs dans des secteurs tels que l’enseignement, l’accueil de la petite enfance, l’agriculture, l’alimentation, le transport etc. \" Aujourd’hui, il y a déjà plus de 100.000 travailleurs dans les flexi-jobs  \", souligne le Premier ministre. Pour Alexandre De Croo, depuis leur introduction, les flexi-jobs \" sont l’un des plus grands succès \" et de mettre en avant ces \" pensionnés \" qui grâce à ces flexi-jobs \"perçoivent en net exactement ce qu’ils perçoivent en brut\".\n",
      "Au passage et au-delà des flexi-jobs, le Premier ministre souligne les quasi 300.000 emplois qui, selon le Bureau du Plan, auront été créés au cours de la législature.\n",
      "Alexander De Croo le reconnaît, les trois ans passés à gouverner \" en temps de crise \" n’ont pas permis de résoudre \" tous les problèmes structurels de la politique budgétaire belge\".\n",
      "Assainir les finances \" demande du temps \", rappelle le Premier. \" Protéger nos citoyens et nos entreprises nous a coûté plus de 20 milliards \", précise-t-il. Mais, ajoute-t-il, \" nous avons fait le choix de ne laisser personne de côté, il n’y avait pas d’autre option \".\n",
      "Et de rappeler entre les lignes les mesures prises pour aider les entreprises à ne pas licencier, pour aider les ménages à se chauffer. \" Malgré toutes les crises, la prospérité des Belges a progressé de 3,8% depuis l’arrivée de ce gouvernement \", se félicite Alexander De Croo.\n",
      "\" Nous avons fait mieux que nos voisins allemands et français \", ajoute-t-il. \" Notre politique a permis de protéger le portefeuille des Belges. Notre politique a permis d’éviter le bain de sang social \", s’enorgueillit le Premier ministre. Il ajoute que des efforts seront encore faits, comme relever le salaire minimum ou investir dans la santé mentale.\n",
      "La crise de l’Asile qui agite la majorité ces dernières semaines a aussi été abordée par le Premier ministre. \" Avec 34.000 places, la Belgique se heurte à ses limites \", a-t-il résumé, mettant en avant le financement de \" 1500 lits dans les centres d’accueil pour sans-abri bruxellois, pour les personnes qui ne trouvent pas de place dans le réseau d’accueil \".\n",
      "\" L’hiver est à nos portes et nous savons ce qui nous attend \", a déclaré le Premier ministre, ajoutant que \" dans les casernes, les bâtiments des chemins de fer ou les foyers vides, nous allons encore créer des places supplémentaires \".\n",
      "Toutefois, pour le Premier, ces places supplémentaires \" n’apporteront pas à elles seules la solution \". Alexander De Croo plaide pour \" des règles efficaces \" sur lesquelles les pays de l’Union européenne \" doivent s’accorder \". A ce sujet, la Belgique compte \" mettre en œuvre le nouveau pacte européen sur la migration \" lorsqu’elle assura la présidence de l’Union européenne, à partir de janvier prochain, a précisé Alexander De Croo.\n",
      "Le Premier ministre a aussi mis en avant l’idée de partenariats entre l’Europe et l’Afrique \" pour inciter les jeunes à poursuivre le rêve africain plutôt que le rêve européen \".\n",
      "Dans sa déclaration de politique générale, le Premier ministre a rappelé les objectifs du gouvernement en matière de sécurité. Il est revenu sur les problèmes de sécurité dans la capitale, Bruxelles, notamment autour de la gare de Bruxelles-Midi. \" Nous devons chercher des solutions\", \"Notre capitale mérite que tous les niveaux de pouvoir travaillent ensemble \", a plaidé le Premier ministre.\n",
      "Alexander De Croo a aussi rappelé l’importance de lutter contre le trafic de drogue. \" Le narcoterrorisme est une menace pour la capitale et nous refusons de la laisser planer \", a-t-il déclaré.\n",
      "Plus de sécurité aussi en matière d’agressions sexuelles. L’accord sur le budget 2024 prévoit d’investir l’an prochain dans 13 centres spécialisés dans les soins aux personnes victimes de violences sexuelles.\n",
      "Enfin, Alexander De Croo a mis en garde contre les fake news. \"Si nous abandonnons notre démocratie à la désinformation et aux fake news, nous allons droit dans le mur\", faisant aussi allusion aux récentes attaques contre des écoles wallonnes après la décision de mettre en œuvre les cours d’Evras (Education à la vie relationnelle, affective et sexuelle) dans les écoles de la Fédération Wallonie-Bruxelles.\n",
      "Mercredi, à 14 heures, les députés discuteront en plénière de cette déclaration gouvernementale. Le gouvernement a demandé la confiance de la Chambre. Le vote de confiance interviendra, en principe, jeudi après-midi.\n",
      "Tous les sujets de l'article\n",
      "==================================\n",
      "Le Premier ministre, Alexandre De Croo, a présenté sa déclaration de politique générale, ce mardi après-midi, dès 14h15, à la Chambre. Devant les députés, il a dressé les grandes lignes de la politique que le gouvernement fédéral va mener en 2024, dans sa dernière ligne droite avant les élections législatives de juin prochain. Ce week-end et ce lundi, la coalition Vivaldi a bouclé ses discussions budgétaires. Parmi les mesures les plus commentées aujourd’hui, figurent la taxation des banques et l’extension du régime des flexi-jobs. Lors de son exposé, le Premier ministre a aussi dressé le bilan du travail accompli par son gouvernement. \" Notre politique a permis de protéger le portefeuille des Belges. Notre politique a permis d’éviter le bain de sang social \", a ainsi déclaré Alexander De Croo, résumant les décisions que la Vivaldi a prises dans les contextes de crise du Covid et de crise énergétique. Avant de présenter sa déclaration de politique générale, le Premier ministre a présenté ses condoléances \" aux familles des victimes de ce qui s’est passé en Israël \". A propos des événements, \" tout cela témoigne d’une barbarie inacceptable \", a estimé Alexander De Croo. \" Cette extrême violence, aveugle et lâche, ferme brusquement la voie à toute perspective de paix et de sécurité dans la région \", a-t-il ajouté, estimant que \" la violence ne sera jamais la solution \". Alors qu’il vient de boucler le budget 2024 avec son gouvernement, le Premier ministre a d’abord remis cet exercice budgétaire en perspective. Les trois années précédentes n’ont pas été un long fleuve tranquille. \"Il y a trois ans, en pleine crise sanitaire, vous avez accordé votre confiance à une équipe\", a-t-il rappelé aux députés. Avec la pandémie, les victimes, la société paralysée, les \"très nombreux emplois dans la balance\", \"les plus pessimistes voyaient déjà notre pays sombrer dans la pauvreté. Il n’en fut rien\", se félicite aujourd’hui Alexander De Croo. Aujourd’hui, selon le Premier ministre, le pays est ressorti \"plus fort\", \"nos finances publiques s’améliorent\" pour prendre la direction des critères de Maastricht. \" Nous tenons nos promesses \", estime le Premier. Au rayon \"promesses tenues\", Alexander De Croo met en avant le relèvement de la pension minimum et les aides lors de la crise énergétique pour que \" personne ne soit abandonné \". Dans les promesses tenues, le Premier ministre range aussi la prolongation de deux réacteurs nucléaires, des mesures en matière de sauvegarde de la compétitivité des entreprises ou encore l’exécution des peines de prison. Alexandre De Croo met en avant des mesures du Budget 2024 qui, selon lui, sont le signe d’un investissement dans le futur : la baisse de la TVA dans la construction, la TVA réduite sur les pompes à chaleur, \"un soutien aux jeunes ménages qui construisent leur première maison\". Autre investissement dans l’avenir, l’instauration d’un service citoyen, \" pour celles et ceux qui cherchent un emploi ou une formation \". Parmi les mesures mises en avant par la Vivaldi figure l’extension des flexi-jobs. \" Des milliers d’emplois cherchent des gens \", résume Alexander De Croo pour justifier la décision d’étendre la possibilité de recourir aux flexi-jobs dans des secteurs tels que l’enseignement, l’accueil de la petite enfance, l’agriculture, l’alimentation, le transport etc. \" Aujourd’hui, il y a déjà plus de 100.000 travailleurs dans les flexi-jobs \", souligne le Premier ministre. Pour Alexandre De Croo, depuis leur introduction, les flexi-jobs \" sont l’un des plus grands succès \" et de mettre en avant ces \" pensionnés \" qui grâce à ces flexi-jobs \"perçoivent en net exactement ce qu’ils perçoivent en brut\". Au passage et au-delà des flexi-jobs, le Premier ministre souligne les quasi 300.000 emplois qui, selon le Bureau du Plan, auront été créés au cours de la législature. Alexander De Croo le reconnaît, les trois ans passés à gouverner \" en temps de crise \" n’ont pas permis de résoudre \" tous les problèmes structurels de la politique budgétaire belge\". Assainir les finances \" demande du temps \", rappelle le Premier. \" Protéger nos citoyens et nos entreprises nous a coûté plus de 20 milliards \", précise-t-il. Mais, ajoute-t-il, \" nous avons fait le choix de ne laisser personne de côté, il n’y avait pas d’autre option \". Et de rappeler entre les lignes les mesures prises pour aider les entreprises à ne pas licencier, pour aider les ménages à se chauffer. \" Malgré toutes les crises, la prospérité des Belges a progressé de 3,8% depuis l’arrivée de ce gouvernement \", se félicite Alexander De Croo. \" Nous avons fait mieux que nos voisins allemands et français \", ajoute-t-il. \" Notre politique a permis de protéger le portefeuille des Belges. Notre politique a permis d’éviter le bain de sang social \", s’enorgueillit le Premier ministre. Il ajoute que des efforts seront encore faits, comme relever le salaire minimum ou investir dans la santé mentale. La crise de l’Asile qui agite la majorité ces dernières semaines a aussi été abordée par le Premier ministre. \" Avec 34.000 places, la Belgique se heurte à ses limites \", a-t-il résumé, mettant en avant le financement de \" 1500 lits dans les centres d’accueil pour sans-abri bruxellois, pour les personnes qui ne trouvent pas de place dans le réseau d’accueil \". \" L’hiver est à nos portes et nous savons ce qui nous attend \", a déclaré le Premier ministre, ajoutant que \" dans les casernes, les bâtiments des chemins de fer ou les foyers vides, nous allons encore créer des places supplémentaires \". Toutefois, pour le Premier, ces places supplémentaires \" n’apporteront pas à elles seules la solution \". Alexander De Croo plaide pour \" des règles efficaces \" sur lesquelles les pays de l’Union européenne \" doivent s’accorder \". A ce sujet, la Belgique compte \" mettre en œuvre le nouveau pacte européen sur la migration \" lorsqu’elle assura la présidence de l’Union européenne, à partir de janvier prochain, a précisé Alexander De Croo. Le Premier ministre a aussi mis en avant l’idée de partenariats entre l’Europe et l’Afrique \" pour inciter les jeunes à poursuivre le rêve africain plutôt que le rêve européen \". Dans sa déclaration de politique générale, le Premier ministre a rappelé les objectifs du gouvernement en matière de sécurité. Il est revenu sur les problèmes de sécurité dans la capitale, Bruxelles, notamment autour de la gare de Bruxelles-Midi. \" Nous devons chercher des solutions\", \"Notre capitale mérite que tous les niveaux de pouvoir travaillent ensemble \", a plaidé le Premier ministre. Alexander De Croo a aussi rappelé l’importance de lutter contre le trafic de drogue. \" Le narcoterrorisme est une menace pour la capitale et nous refusons de la laisser planer \", a-t-il déclaré. Plus de sécurité aussi en matière d’agressions sexuelles. L’accord sur le budget 2024 prévoit d’investir l’an prochain dans 13 centres spécialisés dans les soins aux personnes victimes de violences sexuelles. Enfin, Alexander De Croo a mis en garde contre les fake news. \"Si nous abandonnons notre démocratie à la désinformation et aux fake news, nous allons droit dans le mur\", faisant aussi allusion aux récentes attaques contre des écoles wallonnes après la décision de mettre en œuvre les cours d’Evras dans les écoles de la Fédération Wallonie-Bruxelles. Mercredi, à 14 heures, les députés discuteront en plénière de cette déclaration gouvernementale. Le gouvernement a demandé la confiance de la Chambre. Le vote de confiance interviendra, en principe, jeudi après-midi. Tous les sujets de l'article\n"
     ]
    }
   ],
   "source": [
    "# Suppression de tout ce qui se trouve entre parenthèses\n",
    "clean_content = re.sub(\"\\([^\\)]+\\)\", \" \", content)\n",
    "# Suppression des espaces multiples\n",
    "clean_content = re.sub(\"\\s+\", \" \", clean_content)\n",
    "\n",
    "print(content)\n",
    "print(\"==================================\")\n",
    "print(clean_content)\n"
   ]
  },
  {
   "cell_type": "markdown",
   "metadata": {},
   "source": [
    "### Création d'un fichier avec le contenu de l'article\n"
   ]
  },
  {
   "cell_type": "code",
   "execution_count": null,
   "metadata": {},
   "outputs": [],
   "source": [
    "with open(\"../data/rtbf_example.txt\", \"w\") as writer:\n",
    "    writer.write(f\"{title}\\n\\n{clean_content}\")"
   ]
  },
  {
   "cell_type": "markdown",
   "metadata": {},
   "source": [
    "## Pour en savoir plus"
   ]
  },
  {
   "cell_type": "markdown",
   "metadata": {},
   "source": [
    "- Le web scraping avec Python: https://realpython.com/beautiful-soup-web-scraper-python/\n",
    "- Tutoriel sur les expressions régulières: https://www.w3schools.com/python/python_regex.asp"
   ]
  }
 ],
 "metadata": {
  "kernelspec": {
   "display_name": "Python 3.10.5 ('tac_venv': venv)",
   "language": "python",
   "name": "python3"
  },
  "language_info": {
   "codemirror_mode": {
    "name": "ipython",
    "version": 3
   },
   "file_extension": ".py",
   "mimetype": "text/x-python",
   "name": "python",
   "nbconvert_exporter": "python",
   "pygments_lexer": "ipython3",
   "version": "3.9.0"
  },
  "vscode": {
   "interpreter": {
    "hash": "b1932ab1d169b4769d1550e799423b6477588e745f266d79d9004c136c81607e"
   }
  }
 },
 "nbformat": 4,
 "nbformat_minor": 4
}
